{
 "cells": [
  {
   "cell_type": "code",
   "execution_count": 1,
   "id": "1e66a1ac",
   "metadata": {
    "_cell_guid": "b1076dfc-b9ad-4769-8c92-a6c4dae69d19",
    "_uuid": "8f2839f25d086af736a60e9eeb907d3b93b6e0e5",
    "execution": {
     "iopub.execute_input": "2022-12-03T06:26:43.778462Z",
     "iopub.status.busy": "2022-12-03T06:26:43.777761Z",
     "iopub.status.idle": "2022-12-03T06:26:43.798777Z",
     "shell.execute_reply": "2022-12-03T06:26:43.797089Z"
    },
    "papermill": {
     "duration": 0.043762,
     "end_time": "2022-12-03T06:26:43.802279",
     "exception": false,
     "start_time": "2022-12-03T06:26:43.758517",
     "status": "completed"
    },
    "tags": []
   },
   "outputs": [
    {
     "name": "stdout",
     "output_type": "stream",
     "text": [
      "/kaggle/input/weldright/WeldRight Dataset.xlsx\n",
      "/kaggle/input/weldright-prepared/WeldRight Dataset.csv\n"
     ]
    }
   ],
   "source": [
    "# This Python 3 environment comes with many helpful analytics libraries installed\n",
    "# It is defined by the kaggle/python Docker image: https://github.com/kaggle/docker-python\n",
    "# For example, here's several helpful packages to load\n",
    "\n",
    "import numpy as np # linear algebra\n",
    "import pandas as pd # data processing, CSV file I/O (e.g. pd.read_csv)\n",
    "\n",
    "# Input data files are available in the read-only \"../input/\" directory\n",
    "# For example, running this (by clicking run or pressing Shift+Enter) will list all files under the input directory\n",
    "\n",
    "import os\n",
    "for dirname, _, filenames in os.walk('/kaggle/input'):\n",
    "    for filename in filenames:\n",
    "        print(os.path.join(dirname, filename))\n",
    "\n",
    "# You can write up to 20GB to the current directory (/kaggle/working/) that gets preserved as output when you create a version using \"Save & Run All\" \n",
    "# You can also write temporary files to /kaggle/temp/, but they won't be saved outside of the current session"
   ]
  },
  {
   "cell_type": "code",
   "execution_count": 2,
   "id": "d800368a",
   "metadata": {
    "execution": {
     "iopub.execute_input": "2022-12-03T06:26:43.833939Z",
     "iopub.status.busy": "2022-12-03T06:26:43.833514Z",
     "iopub.status.idle": "2022-12-03T06:26:46.753865Z",
     "shell.execute_reply": "2022-12-03T06:26:46.751780Z"
    },
    "papermill": {
     "duration": 2.939928,
     "end_time": "2022-12-03T06:26:46.756350",
     "exception": false,
     "start_time": "2022-12-03T06:26:43.816422",
     "status": "completed"
    },
    "tags": []
   },
   "outputs": [
    {
     "name": "stderr",
     "output_type": "stream",
     "text": [
      "/opt/conda/lib/python3.7/site-packages/IPython/core/interactiveshell.py:3552: DtypeWarning: Columns (3,4) have mixed types.Specify dtype option on import or set low_memory=False.\n",
      "  exec(code_obj, self.user_global_ns, self.user_ns)\n"
     ]
    }
   ],
   "source": [
    "data = pd.read_csv('../input/weldright-prepared/WeldRight Dataset.csv')"
   ]
  },
  {
   "cell_type": "code",
   "execution_count": 3,
   "id": "178f2192",
   "metadata": {
    "execution": {
     "iopub.execute_input": "2022-12-03T06:26:46.788826Z",
     "iopub.status.busy": "2022-12-03T06:26:46.788322Z",
     "iopub.status.idle": "2022-12-03T06:26:46.820281Z",
     "shell.execute_reply": "2022-12-03T06:26:46.819059Z"
    },
    "papermill": {
     "duration": 0.051615,
     "end_time": "2022-12-03T06:26:46.823057",
     "exception": false,
     "start_time": "2022-12-03T06:26:46.771442",
     "status": "completed"
    },
    "tags": []
   },
   "outputs": [
    {
     "data": {
      "text/html": [
       "<div>\n",
       "<style scoped>\n",
       "    .dataframe tbody tr th:only-of-type {\n",
       "        vertical-align: middle;\n",
       "    }\n",
       "\n",
       "    .dataframe tbody tr th {\n",
       "        vertical-align: top;\n",
       "    }\n",
       "\n",
       "    .dataframe thead th {\n",
       "        text-align: right;\n",
       "    }\n",
       "</style>\n",
       "<table border=\"1\" class=\"dataframe\">\n",
       "  <thead>\n",
       "    <tr style=\"text-align: right;\">\n",
       "      <th></th>\n",
       "      <th>Unnamed: 0</th>\n",
       "      <th>Employee Code</th>\n",
       "      <th>Machine</th>\n",
       "      <th>Production</th>\n",
       "      <th>Order Operation No</th>\n",
       "      <th>Date</th>\n",
       "      <th>Time</th>\n",
       "      <th>Current</th>\n",
       "      <th>Humidity</th>\n",
       "      <th>Temperature</th>\n",
       "      <th>Flow</th>\n",
       "      <th>Job Temp</th>\n",
       "      <th>Voltage</th>\n",
       "      <th>Defect</th>\n",
       "      <th>isDefect</th>\n",
       "    </tr>\n",
       "  </thead>\n",
       "  <tbody>\n",
       "    <tr>\n",
       "      <th>0</th>\n",
       "      <td>1</td>\n",
       "      <td>382617</td>\n",
       "      <td>TWLD23</td>\n",
       "      <td>E15002965</td>\n",
       "      <td>240</td>\n",
       "      <td>2022-09-10 00:00:00</td>\n",
       "      <td>7:32:28:527</td>\n",
       "      <td>1.13</td>\n",
       "      <td>74</td>\n",
       "      <td>23</td>\n",
       "      <td>0.01</td>\n",
       "      <td>29.3</td>\n",
       "      <td>15.2</td>\n",
       "      <td>No Defect</td>\n",
       "      <td>NaN</td>\n",
       "    </tr>\n",
       "    <tr>\n",
       "      <th>1</th>\n",
       "      <td>2</td>\n",
       "      <td>382617</td>\n",
       "      <td>TWLD23</td>\n",
       "      <td>E15002965</td>\n",
       "      <td>240</td>\n",
       "      <td>2022-09-10 00:00:00</td>\n",
       "      <td>7:32:29:40</td>\n",
       "      <td>1.82</td>\n",
       "      <td>74</td>\n",
       "      <td>23</td>\n",
       "      <td>0.00</td>\n",
       "      <td>29.3</td>\n",
       "      <td>0.0</td>\n",
       "      <td>Tungsten Inclusion</td>\n",
       "      <td>NaN</td>\n",
       "    </tr>\n",
       "    <tr>\n",
       "      <th>2</th>\n",
       "      <td>3</td>\n",
       "      <td>382617</td>\n",
       "      <td>TWLD23</td>\n",
       "      <td>E15002965</td>\n",
       "      <td>240</td>\n",
       "      <td>2022-09-10 00:00:00</td>\n",
       "      <td>7:32:29:677</td>\n",
       "      <td>2.91</td>\n",
       "      <td>74</td>\n",
       "      <td>23</td>\n",
       "      <td>0.00</td>\n",
       "      <td>29.3</td>\n",
       "      <td>0.0</td>\n",
       "      <td>No Defect</td>\n",
       "      <td>NaN</td>\n",
       "    </tr>\n",
       "    <tr>\n",
       "      <th>3</th>\n",
       "      <td>4</td>\n",
       "      <td>382617</td>\n",
       "      <td>TWLD23</td>\n",
       "      <td>E15002965</td>\n",
       "      <td>240</td>\n",
       "      <td>2022-09-10 00:00:00</td>\n",
       "      <td>7:32:30:166</td>\n",
       "      <td>0.04</td>\n",
       "      <td>74</td>\n",
       "      <td>23</td>\n",
       "      <td>0.00</td>\n",
       "      <td>29.3</td>\n",
       "      <td>0.0</td>\n",
       "      <td>No Defect</td>\n",
       "      <td>NaN</td>\n",
       "    </tr>\n",
       "    <tr>\n",
       "      <th>4</th>\n",
       "      <td>5</td>\n",
       "      <td>382617</td>\n",
       "      <td>TWLD23</td>\n",
       "      <td>E15002965</td>\n",
       "      <td>240</td>\n",
       "      <td>2022-09-10 00:00:00</td>\n",
       "      <td>7:32:30:696</td>\n",
       "      <td>2.51</td>\n",
       "      <td>74</td>\n",
       "      <td>23</td>\n",
       "      <td>0.00</td>\n",
       "      <td>27.8</td>\n",
       "      <td>0.0</td>\n",
       "      <td>No Defect</td>\n",
       "      <td>NaN</td>\n",
       "    </tr>\n",
       "  </tbody>\n",
       "</table>\n",
       "</div>"
      ],
      "text/plain": [
       "   Unnamed: 0  Employee Code Machine Production Order Operation No  \\\n",
       "0           1         382617  TWLD23  E15002965                240   \n",
       "1           2         382617  TWLD23  E15002965                240   \n",
       "2           3         382617  TWLD23  E15002965                240   \n",
       "3           4         382617  TWLD23  E15002965                240   \n",
       "4           5         382617  TWLD23  E15002965                240   \n",
       "\n",
       "                  Date         Time  Current  Humidity  Temperature  Flow  \\\n",
       "0  2022-09-10 00:00:00  7:32:28:527     1.13        74           23  0.01   \n",
       "1  2022-09-10 00:00:00   7:32:29:40     1.82        74           23  0.00   \n",
       "2  2022-09-10 00:00:00  7:32:29:677     2.91        74           23  0.00   \n",
       "3  2022-09-10 00:00:00  7:32:30:166     0.04        74           23  0.00   \n",
       "4  2022-09-10 00:00:00  7:32:30:696     2.51        74           23  0.00   \n",
       "\n",
       "   Job Temp  Voltage              Defect  isDefect  \n",
       "0      29.3     15.2           No Defect       NaN  \n",
       "1      29.3      0.0  Tungsten Inclusion       NaN  \n",
       "2      29.3      0.0           No Defect       NaN  \n",
       "3      29.3      0.0           No Defect       NaN  \n",
       "4      27.8      0.0           No Defect       NaN  "
      ]
     },
     "execution_count": 3,
     "metadata": {},
     "output_type": "execute_result"
    }
   ],
   "source": [
    "data.head()"
   ]
  },
  {
   "cell_type": "code",
   "execution_count": 4,
   "id": "cdd429cf",
   "metadata": {
    "execution": {
     "iopub.execute_input": "2022-12-03T06:26:46.855918Z",
     "iopub.status.busy": "2022-12-03T06:26:46.855528Z",
     "iopub.status.idle": "2022-12-03T06:26:46.863399Z",
     "shell.execute_reply": "2022-12-03T06:26:46.862200Z"
    },
    "papermill": {
     "duration": 0.027342,
     "end_time": "2022-12-03T06:26:46.865788",
     "exception": false,
     "start_time": "2022-12-03T06:26:46.838446",
     "status": "completed"
    },
    "tags": []
   },
   "outputs": [
    {
     "data": {
      "text/plain": [
       "(827534, 15)"
      ]
     },
     "execution_count": 4,
     "metadata": {},
     "output_type": "execute_result"
    }
   ],
   "source": [
    "data.shape"
   ]
  },
  {
   "cell_type": "code",
   "execution_count": 5,
   "id": "ca95ad9c",
   "metadata": {
    "execution": {
     "iopub.execute_input": "2022-12-03T06:26:46.896116Z",
     "iopub.status.busy": "2022-12-03T06:26:46.895727Z",
     "iopub.status.idle": "2022-12-03T06:26:46.902717Z",
     "shell.execute_reply": "2022-12-03T06:26:46.901199Z"
    },
    "papermill": {
     "duration": 0.025527,
     "end_time": "2022-12-03T06:26:46.905276",
     "exception": false,
     "start_time": "2022-12-03T06:26:46.879749",
     "status": "completed"
    },
    "tags": []
   },
   "outputs": [],
   "source": [
    "def conditions(s):\n",
    "    if (s['Defect'] == \"No Defect\"):\n",
    "        return 0\n",
    "    else:\n",
    "        return 1\n"
   ]
  },
  {
   "cell_type": "code",
   "execution_count": 6,
   "id": "dbb2a702",
   "metadata": {
    "execution": {
     "iopub.execute_input": "2022-12-03T06:26:46.936918Z",
     "iopub.status.busy": "2022-12-03T06:26:46.935767Z",
     "iopub.status.idle": "2022-12-03T06:26:56.605905Z",
     "shell.execute_reply": "2022-12-03T06:26:56.604649Z"
    },
    "papermill": {
     "duration": 9.688864,
     "end_time": "2022-12-03T06:26:56.608830",
     "exception": false,
     "start_time": "2022-12-03T06:26:46.919966",
     "status": "completed"
    },
    "tags": []
   },
   "outputs": [],
   "source": [
    "data['isDefect'] = data.apply(conditions, axis=1)"
   ]
  },
  {
   "cell_type": "code",
   "execution_count": 7,
   "id": "2f194583",
   "metadata": {
    "execution": {
     "iopub.execute_input": "2022-12-03T06:26:56.638693Z",
     "iopub.status.busy": "2022-12-03T06:26:56.637487Z",
     "iopub.status.idle": "2022-12-03T06:26:56.658310Z",
     "shell.execute_reply": "2022-12-03T06:26:56.657040Z"
    },
    "papermill": {
     "duration": 0.038578,
     "end_time": "2022-12-03T06:26:56.661062",
     "exception": false,
     "start_time": "2022-12-03T06:26:56.622484",
     "status": "completed"
    },
    "tags": []
   },
   "outputs": [
    {
     "data": {
      "text/html": [
       "<div>\n",
       "<style scoped>\n",
       "    .dataframe tbody tr th:only-of-type {\n",
       "        vertical-align: middle;\n",
       "    }\n",
       "\n",
       "    .dataframe tbody tr th {\n",
       "        vertical-align: top;\n",
       "    }\n",
       "\n",
       "    .dataframe thead th {\n",
       "        text-align: right;\n",
       "    }\n",
       "</style>\n",
       "<table border=\"1\" class=\"dataframe\">\n",
       "  <thead>\n",
       "    <tr style=\"text-align: right;\">\n",
       "      <th></th>\n",
       "      <th>Unnamed: 0</th>\n",
       "      <th>Employee Code</th>\n",
       "      <th>Machine</th>\n",
       "      <th>Production</th>\n",
       "      <th>Order Operation No</th>\n",
       "      <th>Date</th>\n",
       "      <th>Time</th>\n",
       "      <th>Current</th>\n",
       "      <th>Humidity</th>\n",
       "      <th>Temperature</th>\n",
       "      <th>Flow</th>\n",
       "      <th>Job Temp</th>\n",
       "      <th>Voltage</th>\n",
       "      <th>Defect</th>\n",
       "      <th>isDefect</th>\n",
       "    </tr>\n",
       "  </thead>\n",
       "  <tbody>\n",
       "    <tr>\n",
       "      <th>0</th>\n",
       "      <td>1</td>\n",
       "      <td>382617</td>\n",
       "      <td>TWLD23</td>\n",
       "      <td>E15002965</td>\n",
       "      <td>240</td>\n",
       "      <td>2022-09-10 00:00:00</td>\n",
       "      <td>7:32:28:527</td>\n",
       "      <td>1.13</td>\n",
       "      <td>74</td>\n",
       "      <td>23</td>\n",
       "      <td>0.01</td>\n",
       "      <td>29.3</td>\n",
       "      <td>15.2</td>\n",
       "      <td>No Defect</td>\n",
       "      <td>0</td>\n",
       "    </tr>\n",
       "    <tr>\n",
       "      <th>1</th>\n",
       "      <td>2</td>\n",
       "      <td>382617</td>\n",
       "      <td>TWLD23</td>\n",
       "      <td>E15002965</td>\n",
       "      <td>240</td>\n",
       "      <td>2022-09-10 00:00:00</td>\n",
       "      <td>7:32:29:40</td>\n",
       "      <td>1.82</td>\n",
       "      <td>74</td>\n",
       "      <td>23</td>\n",
       "      <td>0.00</td>\n",
       "      <td>29.3</td>\n",
       "      <td>0.0</td>\n",
       "      <td>Tungsten Inclusion</td>\n",
       "      <td>1</td>\n",
       "    </tr>\n",
       "    <tr>\n",
       "      <th>2</th>\n",
       "      <td>3</td>\n",
       "      <td>382617</td>\n",
       "      <td>TWLD23</td>\n",
       "      <td>E15002965</td>\n",
       "      <td>240</td>\n",
       "      <td>2022-09-10 00:00:00</td>\n",
       "      <td>7:32:29:677</td>\n",
       "      <td>2.91</td>\n",
       "      <td>74</td>\n",
       "      <td>23</td>\n",
       "      <td>0.00</td>\n",
       "      <td>29.3</td>\n",
       "      <td>0.0</td>\n",
       "      <td>No Defect</td>\n",
       "      <td>0</td>\n",
       "    </tr>\n",
       "    <tr>\n",
       "      <th>3</th>\n",
       "      <td>4</td>\n",
       "      <td>382617</td>\n",
       "      <td>TWLD23</td>\n",
       "      <td>E15002965</td>\n",
       "      <td>240</td>\n",
       "      <td>2022-09-10 00:00:00</td>\n",
       "      <td>7:32:30:166</td>\n",
       "      <td>0.04</td>\n",
       "      <td>74</td>\n",
       "      <td>23</td>\n",
       "      <td>0.00</td>\n",
       "      <td>29.3</td>\n",
       "      <td>0.0</td>\n",
       "      <td>No Defect</td>\n",
       "      <td>0</td>\n",
       "    </tr>\n",
       "    <tr>\n",
       "      <th>4</th>\n",
       "      <td>5</td>\n",
       "      <td>382617</td>\n",
       "      <td>TWLD23</td>\n",
       "      <td>E15002965</td>\n",
       "      <td>240</td>\n",
       "      <td>2022-09-10 00:00:00</td>\n",
       "      <td>7:32:30:696</td>\n",
       "      <td>2.51</td>\n",
       "      <td>74</td>\n",
       "      <td>23</td>\n",
       "      <td>0.00</td>\n",
       "      <td>27.8</td>\n",
       "      <td>0.0</td>\n",
       "      <td>No Defect</td>\n",
       "      <td>0</td>\n",
       "    </tr>\n",
       "  </tbody>\n",
       "</table>\n",
       "</div>"
      ],
      "text/plain": [
       "   Unnamed: 0  Employee Code Machine Production Order Operation No  \\\n",
       "0           1         382617  TWLD23  E15002965                240   \n",
       "1           2         382617  TWLD23  E15002965                240   \n",
       "2           3         382617  TWLD23  E15002965                240   \n",
       "3           4         382617  TWLD23  E15002965                240   \n",
       "4           5         382617  TWLD23  E15002965                240   \n",
       "\n",
       "                  Date         Time  Current  Humidity  Temperature  Flow  \\\n",
       "0  2022-09-10 00:00:00  7:32:28:527     1.13        74           23  0.01   \n",
       "1  2022-09-10 00:00:00   7:32:29:40     1.82        74           23  0.00   \n",
       "2  2022-09-10 00:00:00  7:32:29:677     2.91        74           23  0.00   \n",
       "3  2022-09-10 00:00:00  7:32:30:166     0.04        74           23  0.00   \n",
       "4  2022-09-10 00:00:00  7:32:30:696     2.51        74           23  0.00   \n",
       "\n",
       "   Job Temp  Voltage              Defect  isDefect  \n",
       "0      29.3     15.2           No Defect         0  \n",
       "1      29.3      0.0  Tungsten Inclusion         1  \n",
       "2      29.3      0.0           No Defect         0  \n",
       "3      29.3      0.0           No Defect         0  \n",
       "4      27.8      0.0           No Defect         0  "
      ]
     },
     "execution_count": 7,
     "metadata": {},
     "output_type": "execute_result"
    }
   ],
   "source": [
    "data.head()"
   ]
  },
  {
   "cell_type": "code",
   "execution_count": 8,
   "id": "f132bc23",
   "metadata": {
    "execution": {
     "iopub.execute_input": "2022-12-03T06:26:56.692432Z",
     "iopub.status.busy": "2022-12-03T06:26:56.691648Z",
     "iopub.status.idle": "2022-12-03T06:26:56.805211Z",
     "shell.execute_reply": "2022-12-03T06:26:56.804386Z"
    },
    "papermill": {
     "duration": 0.132419,
     "end_time": "2022-12-03T06:26:56.807747",
     "exception": false,
     "start_time": "2022-12-03T06:26:56.675328",
     "status": "completed"
    },
    "tags": []
   },
   "outputs": [
    {
     "data": {
      "text/html": [
       "<div>\n",
       "<style scoped>\n",
       "    .dataframe tbody tr th:only-of-type {\n",
       "        vertical-align: middle;\n",
       "    }\n",
       "\n",
       "    .dataframe tbody tr th {\n",
       "        vertical-align: top;\n",
       "    }\n",
       "\n",
       "    .dataframe thead th {\n",
       "        text-align: right;\n",
       "    }\n",
       "</style>\n",
       "<table border=\"1\" class=\"dataframe\">\n",
       "  <thead>\n",
       "    <tr style=\"text-align: right;\">\n",
       "      <th></th>\n",
       "      <th>Unnamed: 0</th>\n",
       "      <th>Employee Code</th>\n",
       "      <th>Machine</th>\n",
       "      <th>Production</th>\n",
       "      <th>Order Operation No</th>\n",
       "      <th>Date</th>\n",
       "      <th>Time</th>\n",
       "      <th>Current</th>\n",
       "      <th>Humidity</th>\n",
       "      <th>Temperature</th>\n",
       "      <th>Flow</th>\n",
       "      <th>Job Temp</th>\n",
       "      <th>Voltage</th>\n",
       "      <th>Defect</th>\n",
       "      <th>isDefect</th>\n",
       "    </tr>\n",
       "  </thead>\n",
       "  <tbody>\n",
       "    <tr>\n",
       "      <th>1</th>\n",
       "      <td>2</td>\n",
       "      <td>382617</td>\n",
       "      <td>TWLD23</td>\n",
       "      <td>E15002965</td>\n",
       "      <td>240</td>\n",
       "      <td>2022-09-10 00:00:00</td>\n",
       "      <td>7:32:29:40</td>\n",
       "      <td>1.82</td>\n",
       "      <td>74</td>\n",
       "      <td>23</td>\n",
       "      <td>0.00</td>\n",
       "      <td>29.3</td>\n",
       "      <td>0.000</td>\n",
       "      <td>Tungsten Inclusion</td>\n",
       "      <td>1</td>\n",
       "    </tr>\n",
       "    <tr>\n",
       "      <th>36</th>\n",
       "      <td>37</td>\n",
       "      <td>382617</td>\n",
       "      <td>TWLD23</td>\n",
       "      <td>E15002965</td>\n",
       "      <td>240</td>\n",
       "      <td>2022-09-10 00:00:00</td>\n",
       "      <td>7:32:47:696</td>\n",
       "      <td>25.01</td>\n",
       "      <td>74</td>\n",
       "      <td>23</td>\n",
       "      <td>0.00</td>\n",
       "      <td>28.1</td>\n",
       "      <td>5.501</td>\n",
       "      <td>Tungsten Inclusion</td>\n",
       "      <td>1</td>\n",
       "    </tr>\n",
       "    <tr>\n",
       "      <th>37</th>\n",
       "      <td>38</td>\n",
       "      <td>382617</td>\n",
       "      <td>TWLD23</td>\n",
       "      <td>E15002965</td>\n",
       "      <td>240</td>\n",
       "      <td>2022-09-10 00:00:00</td>\n",
       "      <td>7:32:48:300</td>\n",
       "      <td>8.20</td>\n",
       "      <td>74</td>\n",
       "      <td>23</td>\n",
       "      <td>0.00</td>\n",
       "      <td>28.1</td>\n",
       "      <td>-2.008</td>\n",
       "      <td>Tungsten Inclusion</td>\n",
       "      <td>1</td>\n",
       "    </tr>\n",
       "    <tr>\n",
       "      <th>42</th>\n",
       "      <td>43</td>\n",
       "      <td>382617</td>\n",
       "      <td>TWLD23</td>\n",
       "      <td>E15002965</td>\n",
       "      <td>240</td>\n",
       "      <td>2022-09-10 00:00:00</td>\n",
       "      <td>7:32:51:1</td>\n",
       "      <td>15.02</td>\n",
       "      <td>74</td>\n",
       "      <td>23</td>\n",
       "      <td>0.00</td>\n",
       "      <td>101.6</td>\n",
       "      <td>5.000</td>\n",
       "      <td>Tungsten Inclusion</td>\n",
       "      <td>1</td>\n",
       "    </tr>\n",
       "    <tr>\n",
       "      <th>43</th>\n",
       "      <td>44</td>\n",
       "      <td>382617</td>\n",
       "      <td>TWLD23</td>\n",
       "      <td>E15002965</td>\n",
       "      <td>240</td>\n",
       "      <td>2022-09-10 00:00:00</td>\n",
       "      <td>7:32:51:602</td>\n",
       "      <td>25.00</td>\n",
       "      <td>74</td>\n",
       "      <td>23</td>\n",
       "      <td>0.00</td>\n",
       "      <td>101.6</td>\n",
       "      <td>8.019</td>\n",
       "      <td>Tungsten Inclusion</td>\n",
       "      <td>1</td>\n",
       "    </tr>\n",
       "    <tr>\n",
       "      <th>...</th>\n",
       "      <td>...</td>\n",
       "      <td>...</td>\n",
       "      <td>...</td>\n",
       "      <td>...</td>\n",
       "      <td>...</td>\n",
       "      <td>...</td>\n",
       "      <td>...</td>\n",
       "      <td>...</td>\n",
       "      <td>...</td>\n",
       "      <td>...</td>\n",
       "      <td>...</td>\n",
       "      <td>...</td>\n",
       "      <td>...</td>\n",
       "      <td>...</td>\n",
       "      <td>...</td>\n",
       "    </tr>\n",
       "    <tr>\n",
       "      <th>827013</th>\n",
       "      <td>827014</td>\n",
       "      <td>391342</td>\n",
       "      <td>TWLD23</td>\n",
       "      <td>15003062</td>\n",
       "      <td>240</td>\n",
       "      <td>2022-08-29 00:00:00</td>\n",
       "      <td>22:57:22:734</td>\n",
       "      <td>27.96</td>\n",
       "      <td>57</td>\n",
       "      <td>24</td>\n",
       "      <td>0.04</td>\n",
       "      <td>40.3</td>\n",
       "      <td>11.514</td>\n",
       "      <td>Porosity</td>\n",
       "      <td>1</td>\n",
       "    </tr>\n",
       "    <tr>\n",
       "      <th>827124</th>\n",
       "      <td>827125</td>\n",
       "      <td>391342</td>\n",
       "      <td>TWLD23</td>\n",
       "      <td>15003062</td>\n",
       "      <td>240</td>\n",
       "      <td>2022-08-29 00:00:00</td>\n",
       "      <td>22:58:25:841</td>\n",
       "      <td>2.29</td>\n",
       "      <td>57</td>\n",
       "      <td>24</td>\n",
       "      <td>0.00</td>\n",
       "      <td>42.6</td>\n",
       "      <td>0.000</td>\n",
       "      <td>Tungsten Inclusion</td>\n",
       "      <td>1</td>\n",
       "    </tr>\n",
       "    <tr>\n",
       "      <th>827232</th>\n",
       "      <td>827233</td>\n",
       "      <td>391342</td>\n",
       "      <td>TWLD23</td>\n",
       "      <td>15003062</td>\n",
       "      <td>240</td>\n",
       "      <td>2022-08-29 00:00:00</td>\n",
       "      <td>22:59:26:646</td>\n",
       "      <td>18.08</td>\n",
       "      <td>57</td>\n",
       "      <td>24</td>\n",
       "      <td>0.00</td>\n",
       "      <td>38.4</td>\n",
       "      <td>13.105</td>\n",
       "      <td>Tungsten Inclusion</td>\n",
       "      <td>1</td>\n",
       "    </tr>\n",
       "    <tr>\n",
       "      <th>827233</th>\n",
       "      <td>827234</td>\n",
       "      <td>391342</td>\n",
       "      <td>TWLD23</td>\n",
       "      <td>15003062</td>\n",
       "      <td>240</td>\n",
       "      <td>2022-08-29 00:00:00</td>\n",
       "      <td>22:59:27:159</td>\n",
       "      <td>21.53</td>\n",
       "      <td>57</td>\n",
       "      <td>24</td>\n",
       "      <td>0.00</td>\n",
       "      <td>38.4</td>\n",
       "      <td>12.280</td>\n",
       "      <td>Tungsten Inclusion</td>\n",
       "      <td>1</td>\n",
       "    </tr>\n",
       "    <tr>\n",
       "      <th>827469</th>\n",
       "      <td>827470</td>\n",
       "      <td>391342</td>\n",
       "      <td>TWLD23</td>\n",
       "      <td>15003062</td>\n",
       "      <td>240</td>\n",
       "      <td>2022-08-29 00:00:00</td>\n",
       "      <td>23:1:39:491</td>\n",
       "      <td>-1.35</td>\n",
       "      <td>57</td>\n",
       "      <td>24</td>\n",
       "      <td>0.00</td>\n",
       "      <td>34.8</td>\n",
       "      <td>0.000</td>\n",
       "      <td>Porosity</td>\n",
       "      <td>1</td>\n",
       "    </tr>\n",
       "  </tbody>\n",
       "</table>\n",
       "<p>5753 rows × 15 columns</p>\n",
       "</div>"
      ],
      "text/plain": [
       "        Unnamed: 0  Employee Code Machine Production Order Operation No  \\\n",
       "1                2         382617  TWLD23  E15002965                240   \n",
       "36              37         382617  TWLD23  E15002965                240   \n",
       "37              38         382617  TWLD23  E15002965                240   \n",
       "42              43         382617  TWLD23  E15002965                240   \n",
       "43              44         382617  TWLD23  E15002965                240   \n",
       "...            ...            ...     ...        ...                ...   \n",
       "827013      827014         391342  TWLD23   15003062                240   \n",
       "827124      827125         391342  TWLD23   15003062                240   \n",
       "827232      827233         391342  TWLD23   15003062                240   \n",
       "827233      827234         391342  TWLD23   15003062                240   \n",
       "827469      827470         391342  TWLD23   15003062                240   \n",
       "\n",
       "                       Date          Time  Current  Humidity  Temperature  \\\n",
       "1       2022-09-10 00:00:00    7:32:29:40     1.82        74           23   \n",
       "36      2022-09-10 00:00:00   7:32:47:696    25.01        74           23   \n",
       "37      2022-09-10 00:00:00   7:32:48:300     8.20        74           23   \n",
       "42      2022-09-10 00:00:00     7:32:51:1    15.02        74           23   \n",
       "43      2022-09-10 00:00:00   7:32:51:602    25.00        74           23   \n",
       "...                     ...           ...      ...       ...          ...   \n",
       "827013  2022-08-29 00:00:00  22:57:22:734    27.96        57           24   \n",
       "827124  2022-08-29 00:00:00  22:58:25:841     2.29        57           24   \n",
       "827232  2022-08-29 00:00:00  22:59:26:646    18.08        57           24   \n",
       "827233  2022-08-29 00:00:00  22:59:27:159    21.53        57           24   \n",
       "827469  2022-08-29 00:00:00   23:1:39:491    -1.35        57           24   \n",
       "\n",
       "        Flow  Job Temp  Voltage              Defect  isDefect  \n",
       "1       0.00      29.3    0.000  Tungsten Inclusion         1  \n",
       "36      0.00      28.1    5.501  Tungsten Inclusion         1  \n",
       "37      0.00      28.1   -2.008  Tungsten Inclusion         1  \n",
       "42      0.00     101.6    5.000  Tungsten Inclusion         1  \n",
       "43      0.00     101.6    8.019  Tungsten Inclusion         1  \n",
       "...      ...       ...      ...                 ...       ...  \n",
       "827013  0.04      40.3   11.514            Porosity         1  \n",
       "827124  0.00      42.6    0.000  Tungsten Inclusion         1  \n",
       "827232  0.00      38.4   13.105  Tungsten Inclusion         1  \n",
       "827233  0.00      38.4   12.280  Tungsten Inclusion         1  \n",
       "827469  0.00      34.8    0.000            Porosity         1  \n",
       "\n",
       "[5753 rows x 15 columns]"
      ]
     },
     "execution_count": 8,
     "metadata": {},
     "output_type": "execute_result"
    }
   ],
   "source": [
    "data[data['Defect']!='No Defect']"
   ]
  },
  {
   "cell_type": "code",
   "execution_count": 9,
   "id": "add3b554",
   "metadata": {
    "execution": {
     "iopub.execute_input": "2022-12-03T06:26:56.840068Z",
     "iopub.status.busy": "2022-12-03T06:26:56.838938Z",
     "iopub.status.idle": "2022-12-03T06:26:56.923688Z",
     "shell.execute_reply": "2022-12-03T06:26:56.922268Z"
    },
    "papermill": {
     "duration": 0.103925,
     "end_time": "2022-12-03T06:26:56.926511",
     "exception": false,
     "start_time": "2022-12-03T06:26:56.822586",
     "status": "completed"
    },
    "tags": []
   },
   "outputs": [],
   "source": [
    "data.drop('Unnamed: 0',axis=1,inplace=True)"
   ]
  },
  {
   "cell_type": "code",
   "execution_count": 10,
   "id": "46e38f3d",
   "metadata": {
    "execution": {
     "iopub.execute_input": "2022-12-03T06:26:56.959381Z",
     "iopub.status.busy": "2022-12-03T06:26:56.958186Z",
     "iopub.status.idle": "2022-12-03T06:26:56.977791Z",
     "shell.execute_reply": "2022-12-03T06:26:56.976668Z"
    },
    "papermill": {
     "duration": 0.038892,
     "end_time": "2022-12-03T06:26:56.980335",
     "exception": false,
     "start_time": "2022-12-03T06:26:56.941443",
     "status": "completed"
    },
    "tags": []
   },
   "outputs": [
    {
     "data": {
      "text/html": [
       "<div>\n",
       "<style scoped>\n",
       "    .dataframe tbody tr th:only-of-type {\n",
       "        vertical-align: middle;\n",
       "    }\n",
       "\n",
       "    .dataframe tbody tr th {\n",
       "        vertical-align: top;\n",
       "    }\n",
       "\n",
       "    .dataframe thead th {\n",
       "        text-align: right;\n",
       "    }\n",
       "</style>\n",
       "<table border=\"1\" class=\"dataframe\">\n",
       "  <thead>\n",
       "    <tr style=\"text-align: right;\">\n",
       "      <th></th>\n",
       "      <th>Employee Code</th>\n",
       "      <th>Machine</th>\n",
       "      <th>Production</th>\n",
       "      <th>Order Operation No</th>\n",
       "      <th>Date</th>\n",
       "      <th>Time</th>\n",
       "      <th>Current</th>\n",
       "      <th>Humidity</th>\n",
       "      <th>Temperature</th>\n",
       "      <th>Flow</th>\n",
       "      <th>Job Temp</th>\n",
       "      <th>Voltage</th>\n",
       "      <th>Defect</th>\n",
       "      <th>isDefect</th>\n",
       "    </tr>\n",
       "  </thead>\n",
       "  <tbody>\n",
       "    <tr>\n",
       "      <th>0</th>\n",
       "      <td>382617</td>\n",
       "      <td>TWLD23</td>\n",
       "      <td>E15002965</td>\n",
       "      <td>240</td>\n",
       "      <td>2022-09-10 00:00:00</td>\n",
       "      <td>7:32:28:527</td>\n",
       "      <td>1.13</td>\n",
       "      <td>74</td>\n",
       "      <td>23</td>\n",
       "      <td>0.01</td>\n",
       "      <td>29.3</td>\n",
       "      <td>15.2</td>\n",
       "      <td>No Defect</td>\n",
       "      <td>0</td>\n",
       "    </tr>\n",
       "    <tr>\n",
       "      <th>1</th>\n",
       "      <td>382617</td>\n",
       "      <td>TWLD23</td>\n",
       "      <td>E15002965</td>\n",
       "      <td>240</td>\n",
       "      <td>2022-09-10 00:00:00</td>\n",
       "      <td>7:32:29:40</td>\n",
       "      <td>1.82</td>\n",
       "      <td>74</td>\n",
       "      <td>23</td>\n",
       "      <td>0.00</td>\n",
       "      <td>29.3</td>\n",
       "      <td>0.0</td>\n",
       "      <td>Tungsten Inclusion</td>\n",
       "      <td>1</td>\n",
       "    </tr>\n",
       "    <tr>\n",
       "      <th>2</th>\n",
       "      <td>382617</td>\n",
       "      <td>TWLD23</td>\n",
       "      <td>E15002965</td>\n",
       "      <td>240</td>\n",
       "      <td>2022-09-10 00:00:00</td>\n",
       "      <td>7:32:29:677</td>\n",
       "      <td>2.91</td>\n",
       "      <td>74</td>\n",
       "      <td>23</td>\n",
       "      <td>0.00</td>\n",
       "      <td>29.3</td>\n",
       "      <td>0.0</td>\n",
       "      <td>No Defect</td>\n",
       "      <td>0</td>\n",
       "    </tr>\n",
       "    <tr>\n",
       "      <th>3</th>\n",
       "      <td>382617</td>\n",
       "      <td>TWLD23</td>\n",
       "      <td>E15002965</td>\n",
       "      <td>240</td>\n",
       "      <td>2022-09-10 00:00:00</td>\n",
       "      <td>7:32:30:166</td>\n",
       "      <td>0.04</td>\n",
       "      <td>74</td>\n",
       "      <td>23</td>\n",
       "      <td>0.00</td>\n",
       "      <td>29.3</td>\n",
       "      <td>0.0</td>\n",
       "      <td>No Defect</td>\n",
       "      <td>0</td>\n",
       "    </tr>\n",
       "    <tr>\n",
       "      <th>4</th>\n",
       "      <td>382617</td>\n",
       "      <td>TWLD23</td>\n",
       "      <td>E15002965</td>\n",
       "      <td>240</td>\n",
       "      <td>2022-09-10 00:00:00</td>\n",
       "      <td>7:32:30:696</td>\n",
       "      <td>2.51</td>\n",
       "      <td>74</td>\n",
       "      <td>23</td>\n",
       "      <td>0.00</td>\n",
       "      <td>27.8</td>\n",
       "      <td>0.0</td>\n",
       "      <td>No Defect</td>\n",
       "      <td>0</td>\n",
       "    </tr>\n",
       "  </tbody>\n",
       "</table>\n",
       "</div>"
      ],
      "text/plain": [
       "   Employee Code Machine Production Order Operation No                 Date  \\\n",
       "0         382617  TWLD23  E15002965                240  2022-09-10 00:00:00   \n",
       "1         382617  TWLD23  E15002965                240  2022-09-10 00:00:00   \n",
       "2         382617  TWLD23  E15002965                240  2022-09-10 00:00:00   \n",
       "3         382617  TWLD23  E15002965                240  2022-09-10 00:00:00   \n",
       "4         382617  TWLD23  E15002965                240  2022-09-10 00:00:00   \n",
       "\n",
       "          Time  Current  Humidity  Temperature  Flow  Job Temp  Voltage  \\\n",
       "0  7:32:28:527     1.13        74           23  0.01      29.3     15.2   \n",
       "1   7:32:29:40     1.82        74           23  0.00      29.3      0.0   \n",
       "2  7:32:29:677     2.91        74           23  0.00      29.3      0.0   \n",
       "3  7:32:30:166     0.04        74           23  0.00      29.3      0.0   \n",
       "4  7:32:30:696     2.51        74           23  0.00      27.8      0.0   \n",
       "\n",
       "               Defect  isDefect  \n",
       "0           No Defect         0  \n",
       "1  Tungsten Inclusion         1  \n",
       "2           No Defect         0  \n",
       "3           No Defect         0  \n",
       "4           No Defect         0  "
      ]
     },
     "execution_count": 10,
     "metadata": {},
     "output_type": "execute_result"
    }
   ],
   "source": [
    "data.head()"
   ]
  },
  {
   "cell_type": "code",
   "execution_count": 11,
   "id": "c5c54df6",
   "metadata": {
    "execution": {
     "iopub.execute_input": "2022-12-03T06:26:57.012503Z",
     "iopub.status.busy": "2022-12-03T06:26:57.012047Z",
     "iopub.status.idle": "2022-12-03T06:26:57.039867Z",
     "shell.execute_reply": "2022-12-03T06:26:57.038557Z"
    },
    "papermill": {
     "duration": 0.046777,
     "end_time": "2022-12-03T06:26:57.042385",
     "exception": false,
     "start_time": "2022-12-03T06:26:56.995608",
     "status": "completed"
    },
    "tags": []
   },
   "outputs": [
    {
     "data": {
      "text/plain": [
       "array(['240', '-240', '-', '130', 130, 240, 180, 40, 30, 1, '1', '180-'],\n",
       "      dtype=object)"
      ]
     },
     "execution_count": 11,
     "metadata": {},
     "output_type": "execute_result"
    }
   ],
   "source": [
    "data['Order Operation No'].unique()"
   ]
  },
  {
   "cell_type": "code",
   "execution_count": 12,
   "id": "e778c4cc",
   "metadata": {
    "execution": {
     "iopub.execute_input": "2022-12-03T06:26:57.074979Z",
     "iopub.status.busy": "2022-12-03T06:26:57.073800Z",
     "iopub.status.idle": "2022-12-03T06:26:57.154773Z",
     "shell.execute_reply": "2022-12-03T06:26:57.153431Z"
    },
    "papermill": {
     "duration": 0.099989,
     "end_time": "2022-12-03T06:26:57.157476",
     "exception": false,
     "start_time": "2022-12-03T06:26:57.057487",
     "status": "completed"
    },
    "tags": []
   },
   "outputs": [
    {
     "data": {
      "text/plain": [
       "24"
      ]
     },
     "execution_count": 12,
     "metadata": {},
     "output_type": "execute_result"
    }
   ],
   "source": [
    "len(data['Date'].unique())"
   ]
  },
  {
   "cell_type": "code",
   "execution_count": 13,
   "id": "29831283",
   "metadata": {
    "execution": {
     "iopub.execute_input": "2022-12-03T06:26:57.205552Z",
     "iopub.status.busy": "2022-12-03T06:26:57.204809Z",
     "iopub.status.idle": "2022-12-03T06:26:57.440318Z",
     "shell.execute_reply": "2022-12-03T06:26:57.439012Z"
    },
    "papermill": {
     "duration": 0.261944,
     "end_time": "2022-12-03T06:26:57.443065",
     "exception": false,
     "start_time": "2022-12-03T06:26:57.181121",
     "status": "completed"
    },
    "tags": []
   },
   "outputs": [
    {
     "data": {
      "text/plain": [
       "Employee Code              0\n",
       "Machine                    0\n",
       "Production            278180\n",
       "Order Operation No         0\n",
       "Date                       0\n",
       "Time                       0\n",
       "Current                    3\n",
       "Humidity                   0\n",
       "Temperature                0\n",
       "Flow                       0\n",
       "Job Temp                   0\n",
       "Voltage                    0\n",
       "Defect                     0\n",
       "isDefect                   0\n",
       "dtype: int64"
      ]
     },
     "execution_count": 13,
     "metadata": {},
     "output_type": "execute_result"
    }
   ],
   "source": [
    "data.isnull().sum()"
   ]
  },
  {
   "cell_type": "code",
   "execution_count": 14,
   "id": "c109d460",
   "metadata": {
    "execution": {
     "iopub.execute_input": "2022-12-03T06:26:57.475237Z",
     "iopub.status.busy": "2022-12-03T06:26:57.474795Z",
     "iopub.status.idle": "2022-12-03T06:26:57.491196Z",
     "shell.execute_reply": "2022-12-03T06:26:57.489772Z"
    },
    "papermill": {
     "duration": 0.035972,
     "end_time": "2022-12-03T06:26:57.494311",
     "exception": false,
     "start_time": "2022-12-03T06:26:57.458339",
     "status": "completed"
    },
    "tags": []
   },
   "outputs": [
    {
     "data": {
      "text/plain": [
       "array([382617, 391342,  97346,      0, 394965, 387268, 394365, 383138,\n",
       "       394269])"
      ]
     },
     "execution_count": 14,
     "metadata": {},
     "output_type": "execute_result"
    }
   ],
   "source": [
    "data['Employee Code'].unique()"
   ]
  },
  {
   "cell_type": "code",
   "execution_count": 15,
   "id": "9c454dfd",
   "metadata": {
    "execution": {
     "iopub.execute_input": "2022-12-03T06:26:57.527732Z",
     "iopub.status.busy": "2022-12-03T06:26:57.527308Z",
     "iopub.status.idle": "2022-12-03T06:26:57.592572Z",
     "shell.execute_reply": "2022-12-03T06:26:57.591237Z"
    },
    "papermill": {
     "duration": 0.085258,
     "end_time": "2022-12-03T06:26:57.595517",
     "exception": false,
     "start_time": "2022-12-03T06:26:57.510259",
     "status": "completed"
    },
    "tags": []
   },
   "outputs": [
    {
     "data": {
      "text/plain": [
       "array(['TWLD23'], dtype=object)"
      ]
     },
     "execution_count": 15,
     "metadata": {},
     "output_type": "execute_result"
    }
   ],
   "source": [
    "data['Machine'].unique()"
   ]
  },
  {
   "cell_type": "code",
   "execution_count": 16,
   "id": "e9a257a0",
   "metadata": {
    "execution": {
     "iopub.execute_input": "2022-12-03T06:26:57.628567Z",
     "iopub.status.busy": "2022-12-03T06:26:57.628179Z",
     "iopub.status.idle": "2022-12-03T06:26:57.671190Z",
     "shell.execute_reply": "2022-12-03T06:26:57.669793Z"
    },
    "papermill": {
     "duration": 0.063059,
     "end_time": "2022-12-03T06:26:57.674086",
     "exception": false,
     "start_time": "2022-12-03T06:26:57.611027",
     "status": "completed"
    },
    "tags": []
   },
   "outputs": [
    {
     "data": {
      "text/plain": [
       "array(['E15002965', 'E15002966', nan, '-', '15003062', 'E15003220',\n",
       "       'E15002881', 'E10002436', 'E50006711', 'E15003200', 'E15003202',\n",
       "       'E15003056', 'E15002963', 'E10002437', 'E15003219', 'E15003201',\n",
       "       'Test coopan', '-15003217', -15003217, -150033027, 15003062],\n",
       "      dtype=object)"
      ]
     },
     "execution_count": 16,
     "metadata": {},
     "output_type": "execute_result"
    }
   ],
   "source": [
    "data['Production'].unique()"
   ]
  },
  {
   "cell_type": "code",
   "execution_count": 17,
   "id": "62a67245",
   "metadata": {
    "execution": {
     "iopub.execute_input": "2022-12-03T06:26:57.709096Z",
     "iopub.status.busy": "2022-12-03T06:26:57.708668Z",
     "iopub.status.idle": "2022-12-03T06:26:57.733090Z",
     "shell.execute_reply": "2022-12-03T06:26:57.731726Z"
    },
    "papermill": {
     "duration": 0.044693,
     "end_time": "2022-12-03T06:26:57.735578",
     "exception": false,
     "start_time": "2022-12-03T06:26:57.690885",
     "status": "completed"
    },
    "tags": []
   },
   "outputs": [
    {
     "data": {
      "text/plain": [
       "array(['240', '-240', '-', '130', 130, 240, 180, 40, 30, 1, '1', '180-'],\n",
       "      dtype=object)"
      ]
     },
     "execution_count": 17,
     "metadata": {},
     "output_type": "execute_result"
    }
   ],
   "source": [
    "data['Order Operation No'].unique()"
   ]
  },
  {
   "cell_type": "code",
   "execution_count": 18,
   "id": "74a1c8cb",
   "metadata": {
    "execution": {
     "iopub.execute_input": "2022-12-03T06:26:57.770378Z",
     "iopub.status.busy": "2022-12-03T06:26:57.769864Z",
     "iopub.status.idle": "2022-12-03T06:26:59.001491Z",
     "shell.execute_reply": "2022-12-03T06:26:59.000085Z"
    },
    "papermill": {
     "duration": 1.252728,
     "end_time": "2022-12-03T06:26:59.004326",
     "exception": false,
     "start_time": "2022-12-03T06:26:57.751598",
     "status": "completed"
    },
    "tags": []
   },
   "outputs": [],
   "source": [
    "# Importing necessary libraries for understanding data\n",
    "import matplotlib.pyplot as plt\n",
    "import seaborn as sns\n",
    "%matplotlib inline\n",
    "import seaborn as sns\n",
    "\n",
    "plt.style.use('fivethirtyeight')"
   ]
  },
  {
   "cell_type": "code",
   "execution_count": 19,
   "id": "7ddde248",
   "metadata": {
    "execution": {
     "iopub.execute_input": "2022-12-03T06:26:59.038465Z",
     "iopub.status.busy": "2022-12-03T06:26:59.038046Z",
     "iopub.status.idle": "2022-12-03T06:26:59.806349Z",
     "shell.execute_reply": "2022-12-03T06:26:59.804968Z"
    },
    "papermill": {
     "duration": 0.788456,
     "end_time": "2022-12-03T06:26:59.809174",
     "exception": false,
     "start_time": "2022-12-03T06:26:59.020718",
     "status": "completed"
    },
    "tags": []
   },
   "outputs": [
    {
     "data": {
      "image/png": "[encoded data removed]",
      "text/plain": [
       "<Figure size 576x432 with 1 Axes>"
      ]
     },
     "metadata": {},
     "output_type": "display_data"
    }
   ],
   "source": [
    "plt.figure(figsize=(8,6))\n",
    "ax = sns.countplot(data=data,x='Defect')\n",
    "ax.bar_label(ax.containers[0])\n",
    "plt.show()"
   ]
  },
  {
   "cell_type": "code",
   "execution_count": 20,
   "id": "3bffdaed",
   "metadata": {
    "execution": {
     "iopub.execute_input": "2022-12-03T06:26:59.845060Z",
     "iopub.status.busy": "2022-12-03T06:26:59.844657Z",
     "iopub.status.idle": "2022-12-03T06:27:00.122226Z",
     "shell.execute_reply": "2022-12-03T06:27:00.120836Z"
    },
    "papermill": {
     "duration": 0.298253,
     "end_time": "2022-12-03T06:27:00.124882",
     "exception": false,
     "start_time": "2022-12-03T06:26:59.826629",
     "status": "completed"
    },
    "tags": []
   },
   "outputs": [
    {
     "data": {
      "image/png": "[encoded data removed]",
      "text/plain": [
       "<Figure size 576x432 with 1 Axes>"
      ]
     },
     "metadata": {},
     "output_type": "display_data"
    }
   ],
   "source": [
    "plt.figure(figsize=(8,6))\n",
    "ax = sns.countplot(data=data,x='isDefect')\n",
    "ax.bar_label(ax.containers[0])\n",
    "plt.show()"
   ]
  },
  {
   "cell_type": "code",
   "execution_count": 21,
   "id": "1705ce2b",
   "metadata": {
    "execution": {
     "iopub.execute_input": "2022-12-03T06:27:00.160814Z",
     "iopub.status.busy": "2022-12-03T06:27:00.160404Z",
     "iopub.status.idle": "2022-12-03T06:27:00.933525Z",
     "shell.execute_reply": "2022-12-03T06:27:00.932254Z"
    },
    "papermill": {
     "duration": 0.79431,
     "end_time": "2022-12-03T06:27:00.936668",
     "exception": false,
     "start_time": "2022-12-03T06:27:00.142358",
     "status": "completed"
    },
    "tags": []
   },
   "outputs": [
    {
     "data": {
      "image/png": "[encoded data removed]",
      "text/plain": [
       "<Figure size 576x432 with 2 Axes>"
      ]
     },
     "metadata": {},
     "output_type": "display_data"
    }
   ],
   "source": [
    "\n",
    "\n",
    "#Heatmap of correlations\n",
    "plt.figure(figsize=(8,6))\n",
    "sns.heatmap(data=data.corr(),annot=True)\n",
    "plt.title('Heatmap of correlation')\n",
    "plt.show()\n",
    "\n"
   ]
  },
  {
   "cell_type": "code",
   "execution_count": 22,
   "id": "494a4a88",
   "metadata": {
    "execution": {
     "iopub.execute_input": "2022-12-03T06:27:00.974188Z",
     "iopub.status.busy": "2022-12-03T06:27:00.973766Z",
     "iopub.status.idle": "2022-12-03T06:27:05.451539Z",
     "shell.execute_reply": "2022-12-03T06:27:05.450050Z"
    },
    "papermill": {
     "duration": 4.499989,
     "end_time": "2022-12-03T06:27:05.454673",
     "exception": false,
     "start_time": "2022-12-03T06:27:00.954684",
     "status": "completed"
    },
    "tags": []
   },
   "outputs": [
    {
     "data": {
      "image/png": "[encoded data removed]",
      "text/plain": [
       "<Figure size 1080x720 with 1 Axes>"
      ]
     },
     "metadata": {},
     "output_type": "display_data"
    }
   ],
   "source": [
    "plt.figure(figsize=(15,10))\n",
    "sns.histplot(data=data,x='Current',kde=True)\n",
    "plt.title('Histogram of voltage')\n",
    "plt.show()"
   ]
  },
  {
   "cell_type": "code",
   "execution_count": 23,
   "id": "d3509888",
   "metadata": {
    "execution": {
     "iopub.execute_input": "2022-12-03T06:27:05.497588Z",
     "iopub.status.busy": "2022-12-03T06:27:05.497110Z",
     "iopub.status.idle": "2022-12-03T06:27:05.515626Z",
     "shell.execute_reply": "2022-12-03T06:27:05.514228Z"
    },
    "papermill": {
     "duration": 0.043756,
     "end_time": "2022-12-03T06:27:05.518531",
     "exception": false,
     "start_time": "2022-12-03T06:27:05.474775",
     "status": "completed"
    },
    "tags": []
   },
   "outputs": [
    {
     "data": {
      "text/plain": [
       "6818"
      ]
     },
     "execution_count": 23,
     "metadata": {},
     "output_type": "execute_result"
    }
   ],
   "source": [
    "data['Current'].nunique()"
   ]
  },
  {
   "cell_type": "code",
   "execution_count": 24,
   "id": "de3ab71a",
   "metadata": {
    "execution": {
     "iopub.execute_input": "2022-12-03T06:27:05.558603Z",
     "iopub.status.busy": "2022-12-03T06:27:05.558153Z",
     "iopub.status.idle": "2022-12-03T06:27:05.574740Z",
     "shell.execute_reply": "2022-12-03T06:27:05.573677Z"
    },
    "papermill": {
     "duration": 0.040179,
     "end_time": "2022-12-03T06:27:05.577392",
     "exception": false,
     "start_time": "2022-12-03T06:27:05.537213",
     "status": "completed"
    },
    "tags": []
   },
   "outputs": [
    {
     "data": {
      "text/plain": [
       "1009"
      ]
     },
     "execution_count": 24,
     "metadata": {},
     "output_type": "execute_result"
    }
   ],
   "source": [
    "data['Flow'].nunique()"
   ]
  },
  {
   "cell_type": "code",
   "execution_count": 25,
   "id": "7251d208",
   "metadata": {
    "execution": {
     "iopub.execute_input": "2022-12-03T06:27:05.618540Z",
     "iopub.status.busy": "2022-12-03T06:27:05.618100Z",
     "iopub.status.idle": "2022-12-03T06:27:09.864851Z",
     "shell.execute_reply": "2022-12-03T06:27:09.863581Z"
    },
    "papermill": {
     "duration": 4.270739,
     "end_time": "2022-12-03T06:27:09.867606",
     "exception": false,
     "start_time": "2022-12-03T06:27:05.596867",
     "status": "completed"
    },
    "tags": []
   },
   "outputs": [
    {
     "data": {
      "image/png": "[encoded data removed]",
      "text/plain": [
       "<Figure size 1080x720 with 1 Axes>"
      ]
     },
     "metadata": {},
     "output_type": "display_data"
    }
   ],
   "source": [
    "plt.figure(figsize=(15,10))\n",
    "sns.histplot(data=data,x='Flow',kde=True)\n",
    "plt.title('Histogram of Flow')\n",
    "plt.show()"
   ]
  },
  {
   "cell_type": "code",
   "execution_count": 26,
   "id": "ca7a5101",
   "metadata": {
    "execution": {
     "iopub.execute_input": "2022-12-03T06:27:09.911032Z",
     "iopub.status.busy": "2022-12-03T06:27:09.910630Z",
     "iopub.status.idle": "2022-12-03T06:27:41.844464Z",
     "shell.execute_reply": "2022-12-03T06:27:41.843128Z"
    },
    "papermill": {
     "duration": 31.978831,
     "end_time": "2022-12-03T06:27:41.867548",
     "exception": false,
     "start_time": "2022-12-03T06:27:09.888717",
     "status": "completed"
    },
    "tags": []
   },
   "outputs": [
    {
     "data": {
      "image/png": "[encoded data removed]",
      "text/plain": [
       "<Figure size 1080x720 with 1 Axes>"
      ]
     },
     "metadata": {},
     "output_type": "display_data"
    }
   ],
   "source": [
    "plt.figure(figsize=(15,10))\n",
    "sns.histplot(data=data,x='Humidity',kde=True)\n",
    "plt.title('Histogram of Humidity')\n",
    "plt.show()"
   ]
  },
  {
   "cell_type": "code",
   "execution_count": 27,
   "id": "a31b831c",
   "metadata": {
    "execution": {
     "iopub.execute_input": "2022-12-03T06:27:41.911630Z",
     "iopub.status.busy": "2022-12-03T06:27:41.911213Z",
     "iopub.status.idle": "2022-12-03T06:27:41.981815Z",
     "shell.execute_reply": "2022-12-03T06:27:41.980470Z"
    },
    "papermill": {
     "duration": 0.09574,
     "end_time": "2022-12-03T06:27:41.984571",
     "exception": false,
     "start_time": "2022-12-03T06:27:41.888831",
     "status": "completed"
    },
    "tags": []
   },
   "outputs": [
    {
     "data": {
      "text/html": [
       "<div>\n",
       "<style scoped>\n",
       "    .dataframe tbody tr th:only-of-type {\n",
       "        vertical-align: middle;\n",
       "    }\n",
       "\n",
       "    .dataframe tbody tr th {\n",
       "        vertical-align: top;\n",
       "    }\n",
       "\n",
       "    .dataframe thead th {\n",
       "        text-align: right;\n",
       "    }\n",
       "</style>\n",
       "<table border=\"1\" class=\"dataframe\">\n",
       "  <thead>\n",
       "    <tr style=\"text-align: right;\">\n",
       "      <th></th>\n",
       "      <th>Employee Code</th>\n",
       "      <th>Machine</th>\n",
       "      <th>Production</th>\n",
       "      <th>Order Operation No</th>\n",
       "      <th>Date</th>\n",
       "      <th>Time</th>\n",
       "      <th>Current</th>\n",
       "      <th>Humidity</th>\n",
       "      <th>Temperature</th>\n",
       "      <th>Flow</th>\n",
       "      <th>Job Temp</th>\n",
       "      <th>Voltage</th>\n",
       "      <th>Defect</th>\n",
       "      <th>isDefect</th>\n",
       "    </tr>\n",
       "  </thead>\n",
       "  <tbody>\n",
       "    <tr>\n",
       "      <th>714994</th>\n",
       "      <td>97346</td>\n",
       "      <td>TWLD23</td>\n",
       "      <td>-15003217</td>\n",
       "      <td>180-</td>\n",
       "      <td>2022-08-26 00:00:00</td>\n",
       "      <td>7:15:36:123</td>\n",
       "      <td>23.64</td>\n",
       "      <td>70</td>\n",
       "      <td>23</td>\n",
       "      <td>0.04</td>\n",
       "      <td>37.2</td>\n",
       "      <td>-2.482</td>\n",
       "      <td>No Defect</td>\n",
       "      <td>0</td>\n",
       "    </tr>\n",
       "    <tr>\n",
       "      <th>714995</th>\n",
       "      <td>97346</td>\n",
       "      <td>TWLD23</td>\n",
       "      <td>-15003217</td>\n",
       "      <td>180-</td>\n",
       "      <td>2022-08-26 00:00:00</td>\n",
       "      <td>7:15:36:631</td>\n",
       "      <td>20.37</td>\n",
       "      <td>70</td>\n",
       "      <td>23</td>\n",
       "      <td>0.03</td>\n",
       "      <td>37.2</td>\n",
       "      <td>19.822</td>\n",
       "      <td>No Defect</td>\n",
       "      <td>0</td>\n",
       "    </tr>\n",
       "    <tr>\n",
       "      <th>714996</th>\n",
       "      <td>97346</td>\n",
       "      <td>TWLD23</td>\n",
       "      <td>-15003217</td>\n",
       "      <td>180-</td>\n",
       "      <td>2022-08-26 00:00:00</td>\n",
       "      <td>7:15:37:196</td>\n",
       "      <td>13.90</td>\n",
       "      <td>0</td>\n",
       "      <td>0</td>\n",
       "      <td>0.00</td>\n",
       "      <td>0.0</td>\n",
       "      <td>19.806</td>\n",
       "      <td>No Defect</td>\n",
       "      <td>0</td>\n",
       "    </tr>\n",
       "    <tr>\n",
       "      <th>714997</th>\n",
       "      <td>97346</td>\n",
       "      <td>TWLD23</td>\n",
       "      <td>-15003217</td>\n",
       "      <td>180-</td>\n",
       "      <td>2022-08-26 00:00:00</td>\n",
       "      <td>7:15:37:701</td>\n",
       "      <td>8.55</td>\n",
       "      <td>0</td>\n",
       "      <td>0</td>\n",
       "      <td>0.00</td>\n",
       "      <td>0.0</td>\n",
       "      <td>17.128</td>\n",
       "      <td>No Defect</td>\n",
       "      <td>0</td>\n",
       "    </tr>\n",
       "    <tr>\n",
       "      <th>714998</th>\n",
       "      <td>97346</td>\n",
       "      <td>TWLD23</td>\n",
       "      <td>-15003217</td>\n",
       "      <td>180-</td>\n",
       "      <td>2022-08-26 00:00:00</td>\n",
       "      <td>7:15:38:196</td>\n",
       "      <td>21.11</td>\n",
       "      <td>0</td>\n",
       "      <td>0</td>\n",
       "      <td>0.00</td>\n",
       "      <td>0.0</td>\n",
       "      <td>22.515</td>\n",
       "      <td>No Defect</td>\n",
       "      <td>0</td>\n",
       "    </tr>\n",
       "    <tr>\n",
       "      <th>...</th>\n",
       "      <td>...</td>\n",
       "      <td>...</td>\n",
       "      <td>...</td>\n",
       "      <td>...</td>\n",
       "      <td>...</td>\n",
       "      <td>...</td>\n",
       "      <td>...</td>\n",
       "      <td>...</td>\n",
       "      <td>...</td>\n",
       "      <td>...</td>\n",
       "      <td>...</td>\n",
       "      <td>...</td>\n",
       "      <td>...</td>\n",
       "      <td>...</td>\n",
       "    </tr>\n",
       "    <tr>\n",
       "      <th>720891</th>\n",
       "      <td>97346</td>\n",
       "      <td>TWLD23</td>\n",
       "      <td>-15003217</td>\n",
       "      <td>180-</td>\n",
       "      <td>2022-08-26 00:00:00</td>\n",
       "      <td>8:20:21:336</td>\n",
       "      <td>-0.14</td>\n",
       "      <td>67</td>\n",
       "      <td>23</td>\n",
       "      <td>2.68</td>\n",
       "      <td>32.4</td>\n",
       "      <td>0.000</td>\n",
       "      <td>No Defect</td>\n",
       "      <td>0</td>\n",
       "    </tr>\n",
       "    <tr>\n",
       "      <th>720892</th>\n",
       "      <td>97346</td>\n",
       "      <td>TWLD23</td>\n",
       "      <td>-15003217</td>\n",
       "      <td>180-</td>\n",
       "      <td>2022-08-26 00:00:00</td>\n",
       "      <td>8:20:21:835</td>\n",
       "      <td>1.11</td>\n",
       "      <td>67</td>\n",
       "      <td>23</td>\n",
       "      <td>2.68</td>\n",
       "      <td>32.4</td>\n",
       "      <td>0.000</td>\n",
       "      <td>No Defect</td>\n",
       "      <td>0</td>\n",
       "    </tr>\n",
       "    <tr>\n",
       "      <th>720893</th>\n",
       "      <td>97346</td>\n",
       "      <td>TWLD23</td>\n",
       "      <td>-15003217</td>\n",
       "      <td>180-</td>\n",
       "      <td>2022-08-26 00:00:00</td>\n",
       "      <td>8:20:22:343</td>\n",
       "      <td>-1.78</td>\n",
       "      <td>67</td>\n",
       "      <td>23</td>\n",
       "      <td>2.55</td>\n",
       "      <td>32.4</td>\n",
       "      <td>0.000</td>\n",
       "      <td>No Defect</td>\n",
       "      <td>0</td>\n",
       "    </tr>\n",
       "    <tr>\n",
       "      <th>720894</th>\n",
       "      <td>97346</td>\n",
       "      <td>TWLD23</td>\n",
       "      <td>-15003217</td>\n",
       "      <td>180-</td>\n",
       "      <td>2022-08-26 00:00:00</td>\n",
       "      <td>8:20:22:859</td>\n",
       "      <td>-0.77</td>\n",
       "      <td>67</td>\n",
       "      <td>23</td>\n",
       "      <td>2.55</td>\n",
       "      <td>32.4</td>\n",
       "      <td>0.000</td>\n",
       "      <td>No Defect</td>\n",
       "      <td>0</td>\n",
       "    </tr>\n",
       "    <tr>\n",
       "      <th>720895</th>\n",
       "      <td>97346</td>\n",
       "      <td>TWLD23</td>\n",
       "      <td>-15003217</td>\n",
       "      <td>180-</td>\n",
       "      <td>2022-08-26 00:00:00</td>\n",
       "      <td>8:20:23:446</td>\n",
       "      <td>1.63</td>\n",
       "      <td>67</td>\n",
       "      <td>23</td>\n",
       "      <td>2.57</td>\n",
       "      <td>50.2</td>\n",
       "      <td>0.000</td>\n",
       "      <td>No Defect</td>\n",
       "      <td>0</td>\n",
       "    </tr>\n",
       "  </tbody>\n",
       "</table>\n",
       "<p>5902 rows × 14 columns</p>\n",
       "</div>"
      ],
      "text/plain": [
       "        Employee Code Machine Production Order Operation No  \\\n",
       "714994          97346  TWLD23  -15003217               180-   \n",
       "714995          97346  TWLD23  -15003217               180-   \n",
       "714996          97346  TWLD23  -15003217               180-   \n",
       "714997          97346  TWLD23  -15003217               180-   \n",
       "714998          97346  TWLD23  -15003217               180-   \n",
       "...               ...     ...        ...                ...   \n",
       "720891          97346  TWLD23  -15003217               180-   \n",
       "720892          97346  TWLD23  -15003217               180-   \n",
       "720893          97346  TWLD23  -15003217               180-   \n",
       "720894          97346  TWLD23  -15003217               180-   \n",
       "720895          97346  TWLD23  -15003217               180-   \n",
       "\n",
       "                       Date         Time  Current  Humidity  Temperature  \\\n",
       "714994  2022-08-26 00:00:00  7:15:36:123    23.64        70           23   \n",
       "714995  2022-08-26 00:00:00  7:15:36:631    20.37        70           23   \n",
       "714996  2022-08-26 00:00:00  7:15:37:196    13.90         0            0   \n",
       "714997  2022-08-26 00:00:00  7:15:37:701     8.55         0            0   \n",
       "714998  2022-08-26 00:00:00  7:15:38:196    21.11         0            0   \n",
       "...                     ...          ...      ...       ...          ...   \n",
       "720891  2022-08-26 00:00:00  8:20:21:336    -0.14        67           23   \n",
       "720892  2022-08-26 00:00:00  8:20:21:835     1.11        67           23   \n",
       "720893  2022-08-26 00:00:00  8:20:22:343    -1.78        67           23   \n",
       "720894  2022-08-26 00:00:00  8:20:22:859    -0.77        67           23   \n",
       "720895  2022-08-26 00:00:00  8:20:23:446     1.63        67           23   \n",
       "\n",
       "        Flow  Job Temp  Voltage     Defect  isDefect  \n",
       "714994  0.04      37.2   -2.482  No Defect         0  \n",
       "714995  0.03      37.2   19.822  No Defect         0  \n",
       "714996  0.00       0.0   19.806  No Defect         0  \n",
       "714997  0.00       0.0   17.128  No Defect         0  \n",
       "714998  0.00       0.0   22.515  No Defect         0  \n",
       "...      ...       ...      ...        ...       ...  \n",
       "720891  2.68      32.4    0.000  No Defect         0  \n",
       "720892  2.68      32.4    0.000  No Defect         0  \n",
       "720893  2.55      32.4    0.000  No Defect         0  \n",
       "720894  2.55      32.4    0.000  No Defect         0  \n",
       "720895  2.57      50.2    0.000  No Defect         0  \n",
       "\n",
       "[5902 rows x 14 columns]"
      ]
     },
     "execution_count": 27,
     "metadata": {},
     "output_type": "execute_result"
    }
   ],
   "source": [
    "data[data['Production'] == \"-15003217\"]"
   ]
  },
  {
   "cell_type": "code",
   "execution_count": 28,
   "id": "e770f237",
   "metadata": {
    "execution": {
     "iopub.execute_input": "2022-12-03T06:27:42.030198Z",
     "iopub.status.busy": "2022-12-03T06:27:42.029749Z",
     "iopub.status.idle": "2022-12-03T06:27:42.107863Z",
     "shell.execute_reply": "2022-12-03T06:27:42.106497Z"
    },
    "papermill": {
     "duration": 0.104892,
     "end_time": "2022-12-03T06:27:42.110822",
     "exception": false,
     "start_time": "2022-12-03T06:27:42.005930",
     "status": "completed"
    },
    "tags": []
   },
   "outputs": [
    {
     "data": {
      "text/html": [
       "<div>\n",
       "<style scoped>\n",
       "    .dataframe tbody tr th:only-of-type {\n",
       "        vertical-align: middle;\n",
       "    }\n",
       "\n",
       "    .dataframe tbody tr th {\n",
       "        vertical-align: top;\n",
       "    }\n",
       "\n",
       "    .dataframe thead th {\n",
       "        text-align: right;\n",
       "    }\n",
       "</style>\n",
       "<table border=\"1\" class=\"dataframe\">\n",
       "  <thead>\n",
       "    <tr style=\"text-align: right;\">\n",
       "      <th></th>\n",
       "      <th>Employee Code</th>\n",
       "      <th>Machine</th>\n",
       "      <th>Production</th>\n",
       "      <th>Order Operation No</th>\n",
       "      <th>Date</th>\n",
       "      <th>Time</th>\n",
       "      <th>Current</th>\n",
       "      <th>Humidity</th>\n",
       "      <th>Temperature</th>\n",
       "      <th>Flow</th>\n",
       "      <th>Job Temp</th>\n",
       "      <th>Voltage</th>\n",
       "      <th>Defect</th>\n",
       "      <th>isDefect</th>\n",
       "    </tr>\n",
       "  </thead>\n",
       "  <tbody>\n",
       "    <tr>\n",
       "      <th>768232</th>\n",
       "      <td>97346</td>\n",
       "      <td>TWLD23</td>\n",
       "      <td>-150033027</td>\n",
       "      <td>240</td>\n",
       "      <td>2022-08-27 00:00:00</td>\n",
       "      <td>10:9:7:746</td>\n",
       "      <td>0.86</td>\n",
       "      <td>79</td>\n",
       "      <td>25</td>\n",
       "      <td>0.07</td>\n",
       "      <td>33.0</td>\n",
       "      <td>0.0</td>\n",
       "      <td>No Defect</td>\n",
       "      <td>0</td>\n",
       "    </tr>\n",
       "    <tr>\n",
       "      <th>768233</th>\n",
       "      <td>97346</td>\n",
       "      <td>TWLD23</td>\n",
       "      <td>-150033027</td>\n",
       "      <td>240</td>\n",
       "      <td>2022-08-27 00:00:00</td>\n",
       "      <td>10:9:8:330</td>\n",
       "      <td>-0.78</td>\n",
       "      <td>79</td>\n",
       "      <td>25</td>\n",
       "      <td>0.04</td>\n",
       "      <td>33.8</td>\n",
       "      <td>0.0</td>\n",
       "      <td>No Defect</td>\n",
       "      <td>0</td>\n",
       "    </tr>\n",
       "    <tr>\n",
       "      <th>768234</th>\n",
       "      <td>97346</td>\n",
       "      <td>TWLD23</td>\n",
       "      <td>-150033027</td>\n",
       "      <td>240</td>\n",
       "      <td>2022-08-27 00:00:00</td>\n",
       "      <td>10:9:8:848</td>\n",
       "      <td>-1.22</td>\n",
       "      <td>79</td>\n",
       "      <td>25</td>\n",
       "      <td>0.00</td>\n",
       "      <td>33.8</td>\n",
       "      <td>0.0</td>\n",
       "      <td>No Defect</td>\n",
       "      <td>0</td>\n",
       "    </tr>\n",
       "    <tr>\n",
       "      <th>768235</th>\n",
       "      <td>97346</td>\n",
       "      <td>TWLD23</td>\n",
       "      <td>-150033027</td>\n",
       "      <td>240</td>\n",
       "      <td>2022-08-27 00:00:00</td>\n",
       "      <td>10:9:9:369</td>\n",
       "      <td>-1.80</td>\n",
       "      <td>79</td>\n",
       "      <td>25</td>\n",
       "      <td>0.00</td>\n",
       "      <td>33.8</td>\n",
       "      <td>0.0</td>\n",
       "      <td>No Defect</td>\n",
       "      <td>0</td>\n",
       "    </tr>\n",
       "    <tr>\n",
       "      <th>768236</th>\n",
       "      <td>97346</td>\n",
       "      <td>TWLD23</td>\n",
       "      <td>-150033027</td>\n",
       "      <td>240</td>\n",
       "      <td>2022-08-27 00:00:00</td>\n",
       "      <td>10:9:9:948</td>\n",
       "      <td>1.45</td>\n",
       "      <td>79</td>\n",
       "      <td>25</td>\n",
       "      <td>0.00</td>\n",
       "      <td>33.7</td>\n",
       "      <td>0.0</td>\n",
       "      <td>No Defect</td>\n",
       "      <td>0</td>\n",
       "    </tr>\n",
       "    <tr>\n",
       "      <th>...</th>\n",
       "      <td>...</td>\n",
       "      <td>...</td>\n",
       "      <td>...</td>\n",
       "      <td>...</td>\n",
       "      <td>...</td>\n",
       "      <td>...</td>\n",
       "      <td>...</td>\n",
       "      <td>...</td>\n",
       "      <td>...</td>\n",
       "      <td>...</td>\n",
       "      <td>...</td>\n",
       "      <td>...</td>\n",
       "      <td>...</td>\n",
       "      <td>...</td>\n",
       "    </tr>\n",
       "    <tr>\n",
       "      <th>811499</th>\n",
       "      <td>394965</td>\n",
       "      <td>TWLD23</td>\n",
       "      <td>-150033027</td>\n",
       "      <td>240</td>\n",
       "      <td>2022-08-29 00:00:00</td>\n",
       "      <td>14:26:47:984</td>\n",
       "      <td>-0.95</td>\n",
       "      <td>72</td>\n",
       "      <td>24</td>\n",
       "      <td>0.00</td>\n",
       "      <td>28.0</td>\n",
       "      <td>0.0</td>\n",
       "      <td>No Defect</td>\n",
       "      <td>0</td>\n",
       "    </tr>\n",
       "    <tr>\n",
       "      <th>811500</th>\n",
       "      <td>394965</td>\n",
       "      <td>TWLD23</td>\n",
       "      <td>-150033027</td>\n",
       "      <td>240</td>\n",
       "      <td>2022-08-29 00:00:00</td>\n",
       "      <td>14:26:48:500</td>\n",
       "      <td>-1.26</td>\n",
       "      <td>72</td>\n",
       "      <td>24</td>\n",
       "      <td>0.00</td>\n",
       "      <td>28.0</td>\n",
       "      <td>0.0</td>\n",
       "      <td>No Defect</td>\n",
       "      <td>0</td>\n",
       "    </tr>\n",
       "    <tr>\n",
       "      <th>811501</th>\n",
       "      <td>394965</td>\n",
       "      <td>TWLD23</td>\n",
       "      <td>-150033027</td>\n",
       "      <td>240</td>\n",
       "      <td>2022-08-29 00:00:00</td>\n",
       "      <td>14:26:49:76</td>\n",
       "      <td>1.39</td>\n",
       "      <td>72</td>\n",
       "      <td>24</td>\n",
       "      <td>0.00</td>\n",
       "      <td>28.0</td>\n",
       "      <td>0.0</td>\n",
       "      <td>No Defect</td>\n",
       "      <td>0</td>\n",
       "    </tr>\n",
       "    <tr>\n",
       "      <th>811502</th>\n",
       "      <td>394965</td>\n",
       "      <td>TWLD23</td>\n",
       "      <td>-150033027</td>\n",
       "      <td>240</td>\n",
       "      <td>2022-08-29 00:00:00</td>\n",
       "      <td>14:26:49:584</td>\n",
       "      <td>0.08</td>\n",
       "      <td>72</td>\n",
       "      <td>24</td>\n",
       "      <td>0.00</td>\n",
       "      <td>28.3</td>\n",
       "      <td>0.0</td>\n",
       "      <td>No Defect</td>\n",
       "      <td>0</td>\n",
       "    </tr>\n",
       "    <tr>\n",
       "      <th>811503</th>\n",
       "      <td>394965</td>\n",
       "      <td>TWLD23</td>\n",
       "      <td>-150033027</td>\n",
       "      <td>240</td>\n",
       "      <td>2022-08-29 00:00:00</td>\n",
       "      <td>14:26:50:175</td>\n",
       "      <td>1.16</td>\n",
       "      <td>72</td>\n",
       "      <td>24</td>\n",
       "      <td>0.00</td>\n",
       "      <td>28.3</td>\n",
       "      <td>0.0</td>\n",
       "      <td>No Defect</td>\n",
       "      <td>0</td>\n",
       "    </tr>\n",
       "  </tbody>\n",
       "</table>\n",
       "<p>43272 rows × 14 columns</p>\n",
       "</div>"
      ],
      "text/plain": [
       "        Employee Code Machine  Production Order Operation No  \\\n",
       "768232          97346  TWLD23  -150033027                240   \n",
       "768233          97346  TWLD23  -150033027                240   \n",
       "768234          97346  TWLD23  -150033027                240   \n",
       "768235          97346  TWLD23  -150033027                240   \n",
       "768236          97346  TWLD23  -150033027                240   \n",
       "...               ...     ...         ...                ...   \n",
       "811499         394965  TWLD23  -150033027                240   \n",
       "811500         394965  TWLD23  -150033027                240   \n",
       "811501         394965  TWLD23  -150033027                240   \n",
       "811502         394965  TWLD23  -150033027                240   \n",
       "811503         394965  TWLD23  -150033027                240   \n",
       "\n",
       "                       Date          Time  Current  Humidity  Temperature  \\\n",
       "768232  2022-08-27 00:00:00    10:9:7:746     0.86        79           25   \n",
       "768233  2022-08-27 00:00:00    10:9:8:330    -0.78        79           25   \n",
       "768234  2022-08-27 00:00:00    10:9:8:848    -1.22        79           25   \n",
       "768235  2022-08-27 00:00:00    10:9:9:369    -1.80        79           25   \n",
       "768236  2022-08-27 00:00:00    10:9:9:948     1.45        79           25   \n",
       "...                     ...           ...      ...       ...          ...   \n",
       "811499  2022-08-29 00:00:00  14:26:47:984    -0.95        72           24   \n",
       "811500  2022-08-29 00:00:00  14:26:48:500    -1.26        72           24   \n",
       "811501  2022-08-29 00:00:00   14:26:49:76     1.39        72           24   \n",
       "811502  2022-08-29 00:00:00  14:26:49:584     0.08        72           24   \n",
       "811503  2022-08-29 00:00:00  14:26:50:175     1.16        72           24   \n",
       "\n",
       "        Flow  Job Temp  Voltage     Defect  isDefect  \n",
       "768232  0.07      33.0      0.0  No Defect         0  \n",
       "768233  0.04      33.8      0.0  No Defect         0  \n",
       "768234  0.00      33.8      0.0  No Defect         0  \n",
       "768235  0.00      33.8      0.0  No Defect         0  \n",
       "768236  0.00      33.7      0.0  No Defect         0  \n",
       "...      ...       ...      ...        ...       ...  \n",
       "811499  0.00      28.0      0.0  No Defect         0  \n",
       "811500  0.00      28.0      0.0  No Defect         0  \n",
       "811501  0.00      28.0      0.0  No Defect         0  \n",
       "811502  0.00      28.3      0.0  No Defect         0  \n",
       "811503  0.00      28.3      0.0  No Defect         0  \n",
       "\n",
       "[43272 rows x 14 columns]"
      ]
     },
     "execution_count": 28,
     "metadata": {},
     "output_type": "execute_result"
    }
   ],
   "source": [
    "data[data['Production'] == -150033027]"
   ]
  },
  {
   "cell_type": "code",
   "execution_count": 29,
   "id": "7a874ed3",
   "metadata": {
    "execution": {
     "iopub.execute_input": "2022-12-03T06:27:42.157927Z",
     "iopub.status.busy": "2022-12-03T06:27:42.157504Z",
     "iopub.status.idle": "2022-12-03T06:27:42.278337Z",
     "shell.execute_reply": "2022-12-03T06:27:42.277004Z"
    },
    "papermill": {
     "duration": 0.14796,
     "end_time": "2022-12-03T06:27:42.281317",
     "exception": false,
     "start_time": "2022-12-03T06:27:42.133357",
     "status": "completed"
    },
    "tags": []
   },
   "outputs": [],
   "source": [
    "data.Production = data.Production.replace(-15003217, \"-15003217\")\n",
    "data.Production = data.Production.replace(15003062, \"15003062\")\n",
    "data.Production = data.Production.replace(-150033027,\"-150033027\")"
   ]
  },
  {
   "cell_type": "code",
   "execution_count": 30,
   "id": "3c7760d3",
   "metadata": {
    "execution": {
     "iopub.execute_input": "2022-12-03T06:27:42.327649Z",
     "iopub.status.busy": "2022-12-03T06:27:42.326868Z",
     "iopub.status.idle": "2022-12-03T06:27:42.373806Z",
     "shell.execute_reply": "2022-12-03T06:27:42.372550Z"
    },
    "papermill": {
     "duration": 0.073027,
     "end_time": "2022-12-03T06:27:42.376499",
     "exception": false,
     "start_time": "2022-12-03T06:27:42.303472",
     "status": "completed"
    },
    "tags": []
   },
   "outputs": [
    {
     "data": {
      "text/plain": [
       "array(['E15002965', 'E15002966', nan, '-', '15003062', 'E15003220',\n",
       "       'E15002881', 'E10002436', 'E50006711', 'E15003200', 'E15003202',\n",
       "       'E15003056', 'E15002963', 'E10002437', 'E15003219', 'E15003201',\n",
       "       'Test coopan', '-15003217', '-150033027'], dtype=object)"
      ]
     },
     "execution_count": 30,
     "metadata": {},
     "output_type": "execute_result"
    }
   ],
   "source": [
    "data.Production.unique()"
   ]
  },
  {
   "cell_type": "code",
   "execution_count": 31,
   "id": "8ef18551",
   "metadata": {
    "execution": {
     "iopub.execute_input": "2022-12-03T06:27:42.421776Z",
     "iopub.status.busy": "2022-12-03T06:27:42.421338Z",
     "iopub.status.idle": "2022-12-03T06:27:42.468013Z",
     "shell.execute_reply": "2022-12-03T06:27:42.466748Z"
    },
    "papermill": {
     "duration": 0.073026,
     "end_time": "2022-12-03T06:27:42.471235",
     "exception": false,
     "start_time": "2022-12-03T06:27:42.398209",
     "status": "completed"
    },
    "tags": []
   },
   "outputs": [],
   "source": [
    "data['Production'].fillna(\"-\",inplace=True)"
   ]
  },
  {
   "cell_type": "code",
   "execution_count": 32,
   "id": "9d54aa54",
   "metadata": {
    "execution": {
     "iopub.execute_input": "2022-12-03T06:27:42.517880Z",
     "iopub.status.busy": "2022-12-03T06:27:42.517419Z",
     "iopub.status.idle": "2022-12-03T06:27:42.542523Z",
     "shell.execute_reply": "2022-12-03T06:27:42.541052Z"
    },
    "papermill": {
     "duration": 0.051627,
     "end_time": "2022-12-03T06:27:42.545581",
     "exception": false,
     "start_time": "2022-12-03T06:27:42.493954",
     "status": "completed"
    },
    "tags": []
   },
   "outputs": [],
   "source": [
    "data['Current'].fillna(data['Current'].median(),inplace=True)"
   ]
  },
  {
   "cell_type": "code",
   "execution_count": 33,
   "id": "e716e7f0",
   "metadata": {
    "execution": {
     "iopub.execute_input": "2022-12-03T06:27:42.589648Z",
     "iopub.status.busy": "2022-12-03T06:27:42.589252Z",
     "iopub.status.idle": "2022-12-03T06:27:42.886455Z",
     "shell.execute_reply": "2022-12-03T06:27:42.885257Z"
    },
    "papermill": {
     "duration": 0.322791,
     "end_time": "2022-12-03T06:27:42.889414",
     "exception": false,
     "start_time": "2022-12-03T06:27:42.566623",
     "status": "completed"
    },
    "tags": []
   },
   "outputs": [],
   "source": [
    "data['Order Operation No'] = data['Order Operation No'].replace('-240','240')\n",
    "data['Order Operation No'] = data['Order Operation No'].replace(240,'240')\n",
    "data['Order Operation No'] = data['Order Operation No'].replace('180-','180')\n",
    "data['Order Operation No'] = data['Order Operation No'].replace(180,'180')\n",
    "data['Order Operation No'] = data['Order Operation No'].replace(130,'130')\n",
    "data['Order Operation No'] = data['Order Operation No'].replace(1,'1')\n",
    "data['Order Operation No'] = data['Order Operation No'].replace(40,'40')\n",
    "data['Order Operation No'] = data['Order Operation No'].replace(30,'30')\n"
   ]
  },
  {
   "cell_type": "code",
   "execution_count": 34,
   "id": "78776316",
   "metadata": {
    "execution": {
     "iopub.execute_input": "2022-12-03T06:27:42.934053Z",
     "iopub.status.busy": "2022-12-03T06:27:42.933671Z",
     "iopub.status.idle": "2022-12-03T06:27:42.995410Z",
     "shell.execute_reply": "2022-12-03T06:27:42.994306Z"
    },
    "papermill": {
     "duration": 0.088216,
     "end_time": "2022-12-03T06:27:42.998324",
     "exception": false,
     "start_time": "2022-12-03T06:27:42.910108",
     "status": "completed"
    },
    "tags": []
   },
   "outputs": [
    {
     "data": {
      "text/plain": [
       "array(['240', '-', '130', '180', '40', '30', '1'], dtype=object)"
      ]
     },
     "execution_count": 34,
     "metadata": {},
     "output_type": "execute_result"
    }
   ],
   "source": [
    "data['Order Operation No'].unique()"
   ]
  },
  {
   "cell_type": "code",
   "execution_count": 35,
   "id": "aa38fd0f",
   "metadata": {
    "execution": {
     "iopub.execute_input": "2022-12-03T06:27:43.045247Z",
     "iopub.status.busy": "2022-12-03T06:27:43.044821Z",
     "iopub.status.idle": "2022-12-03T06:27:43.145465Z",
     "shell.execute_reply": "2022-12-03T06:27:43.144211Z"
    },
    "papermill": {
     "duration": 0.126932,
     "end_time": "2022-12-03T06:27:43.148376",
     "exception": false,
     "start_time": "2022-12-03T06:27:43.021444",
     "status": "completed"
    },
    "tags": []
   },
   "outputs": [
    {
     "data": {
      "text/plain": [
       "1840"
      ]
     },
     "execution_count": 35,
     "metadata": {},
     "output_type": "execute_result"
    }
   ],
   "source": [
    "data[data['Production']=='-']['isDefect'].sum()"
   ]
  },
  {
   "cell_type": "code",
   "execution_count": 36,
   "id": "004d20cf",
   "metadata": {
    "execution": {
     "iopub.execute_input": "2022-12-03T06:27:43.197687Z",
     "iopub.status.busy": "2022-12-03T06:27:43.197282Z",
     "iopub.status.idle": "2022-12-03T06:27:43.249677Z",
     "shell.execute_reply": "2022-12-03T06:27:43.248610Z"
    },
    "papermill": {
     "duration": 0.080648,
     "end_time": "2022-12-03T06:27:43.252447",
     "exception": false,
     "start_time": "2022-12-03T06:27:43.171799",
     "status": "completed"
    },
    "tags": []
   },
   "outputs": [
    {
     "data": {
      "text/html": [
       "<div>\n",
       "<style scoped>\n",
       "    .dataframe tbody tr th:only-of-type {\n",
       "        vertical-align: middle;\n",
       "    }\n",
       "\n",
       "    .dataframe tbody tr th {\n",
       "        vertical-align: top;\n",
       "    }\n",
       "\n",
       "    .dataframe thead th {\n",
       "        text-align: right;\n",
       "    }\n",
       "</style>\n",
       "<table border=\"1\" class=\"dataframe\">\n",
       "  <thead>\n",
       "    <tr style=\"text-align: right;\">\n",
       "      <th></th>\n",
       "      <th>Employee Code</th>\n",
       "      <th>Machine</th>\n",
       "      <th>Production</th>\n",
       "      <th>Order Operation No</th>\n",
       "      <th>Date</th>\n",
       "      <th>Time</th>\n",
       "      <th>Current</th>\n",
       "      <th>Humidity</th>\n",
       "      <th>Temperature</th>\n",
       "      <th>Flow</th>\n",
       "      <th>Job Temp</th>\n",
       "      <th>Voltage</th>\n",
       "      <th>Defect</th>\n",
       "      <th>isDefect</th>\n",
       "    </tr>\n",
       "  </thead>\n",
       "  <tbody>\n",
       "    <tr>\n",
       "      <th>138184</th>\n",
       "      <td>0</td>\n",
       "      <td>TWLD23</td>\n",
       "      <td>-</td>\n",
       "      <td>240</td>\n",
       "      <td>2022-09-14 00:00:00</td>\n",
       "      <td>5:31:17:87</td>\n",
       "      <td>6.77</td>\n",
       "      <td>84</td>\n",
       "      <td>24</td>\n",
       "      <td>0.0</td>\n",
       "      <td>28.4</td>\n",
       "      <td>0.0</td>\n",
       "      <td>No Defect</td>\n",
       "      <td>0</td>\n",
       "    </tr>\n",
       "  </tbody>\n",
       "</table>\n",
       "</div>"
      ],
      "text/plain": [
       "        Employee Code Machine Production Order Operation No  \\\n",
       "138184              0  TWLD23          -                240   \n",
       "\n",
       "                       Date        Time  Current  Humidity  Temperature  Flow  \\\n",
       "138184  2022-09-14 00:00:00  5:31:17:87     6.77        84           24   0.0   \n",
       "\n",
       "        Job Temp  Voltage     Defect  isDefect  \n",
       "138184      28.4      0.0  No Defect         0  "
      ]
     },
     "execution_count": 36,
     "metadata": {},
     "output_type": "execute_result"
    }
   ],
   "source": [
    "data.sample()"
   ]
  },
  {
   "cell_type": "code",
   "execution_count": 37,
   "id": "116d03bd",
   "metadata": {
    "execution": {
     "iopub.execute_input": "2022-12-03T06:27:43.298016Z",
     "iopub.status.busy": "2022-12-03T06:27:43.297632Z",
     "iopub.status.idle": "2022-12-03T06:27:43.458017Z",
     "shell.execute_reply": "2022-12-03T06:27:43.456582Z"
    },
    "papermill": {
     "duration": 0.186691,
     "end_time": "2022-12-03T06:27:43.461327",
     "exception": false,
     "start_time": "2022-12-03T06:27:43.274636",
     "status": "completed"
    },
    "tags": []
   },
   "outputs": [],
   "source": [
    "data['Date'] = pd.to_datetime(data['Date'])\n",
    "#data['Time'] = pd.to_datetime(data['Time'])"
   ]
  },
  {
   "cell_type": "code",
   "execution_count": 38,
   "id": "945e6c8c",
   "metadata": {
    "execution": {
     "iopub.execute_input": "2022-12-03T06:27:43.512706Z",
     "iopub.status.busy": "2022-12-03T06:27:43.512266Z",
     "iopub.status.idle": "2022-12-03T06:27:43.521922Z",
     "shell.execute_reply": "2022-12-03T06:27:43.520446Z"
    },
    "papermill": {
     "duration": 0.039364,
     "end_time": "2022-12-03T06:27:43.524444",
     "exception": false,
     "start_time": "2022-12-03T06:27:43.485080",
     "status": "completed"
    },
    "tags": []
   },
   "outputs": [
    {
     "data": {
      "text/plain": [
       "Employee Code                  int64\n",
       "Machine                       object\n",
       "Production                    object\n",
       "Order Operation No            object\n",
       "Date                  datetime64[ns]\n",
       "Time                          object\n",
       "Current                      float64\n",
       "Humidity                       int64\n",
       "Temperature                    int64\n",
       "Flow                         float64\n",
       "Job Temp                     float64\n",
       "Voltage                      float64\n",
       "Defect                        object\n",
       "isDefect                       int64\n",
       "dtype: object"
      ]
     },
     "execution_count": 38,
     "metadata": {},
     "output_type": "execute_result"
    }
   ],
   "source": [
    "data.dtypes"
   ]
  },
  {
   "cell_type": "code",
   "execution_count": 39,
   "id": "bad505b4",
   "metadata": {
    "execution": {
     "iopub.execute_input": "2022-12-03T06:27:43.573042Z",
     "iopub.status.busy": "2022-12-03T06:27:43.572575Z",
     "iopub.status.idle": "2022-12-03T06:27:44.708292Z",
     "shell.execute_reply": "2022-12-03T06:27:44.706859Z"
    },
    "papermill": {
     "duration": 1.163657,
     "end_time": "2022-12-03T06:27:44.711008",
     "exception": false,
     "start_time": "2022-12-03T06:27:43.547351",
     "status": "completed"
    },
    "tags": []
   },
   "outputs": [
    {
     "data": {
      "image/png": "[encoded data removed]",
      "text/plain": [
       "<Figure size 1800x720 with 1 Axes>"
      ]
     },
     "metadata": {},
     "output_type": "display_data"
    }
   ],
   "source": [
    "groupedvalues = groupedvalues = data.groupby('Employee Code').sum().reset_index()\n",
    "fig = plt.figure(figsize = (25, 10))\n",
    "g = sns.countplot(data = data,\n",
    "            x = 'Employee Code',\n",
    "            hue = 'Defect',\n",
    "            order = data['Employee Code'].value_counts().index)\n",
    "for p in g.patches:\n",
    "   g.annotate('{}'.format(p.get_height()), (p.get_x()+0.0, p.get_height()+0.04))\n",
    "plt.xlabel(\"Employee Code\")\n",
    "plt.ylabel(\"Count of data\")\n",
    "plt.show()"
   ]
  },
  {
   "cell_type": "code",
   "execution_count": 40,
   "id": "6655db66",
   "metadata": {
    "execution": {
     "iopub.execute_input": "2022-12-03T06:27:44.766929Z",
     "iopub.status.busy": "2022-12-03T06:27:44.766508Z",
     "iopub.status.idle": "2022-12-03T06:27:46.666472Z",
     "shell.execute_reply": "2022-12-03T06:27:46.665223Z"
    },
    "papermill": {
     "duration": 1.931271,
     "end_time": "2022-12-03T06:27:46.669119",
     "exception": false,
     "start_time": "2022-12-03T06:27:44.737848",
     "status": "completed"
    },
    "tags": []
   },
   "outputs": [
    {
     "data": {
      "image/png": "[encoded data removed]",
      "text/plain": [
       "<Figure size 1800x720 with 1 Axes>"
      ]
     },
     "metadata": {},
     "output_type": "display_data"
    }
   ],
   "source": [
    "groupedvalues = groupedvalues = data.groupby('Production').sum().reset_index()\n",
    "fig = plt.figure(figsize = (25, 10))\n",
    "g = sns.countplot(data = data,\n",
    "            x = 'Production',\n",
    "            hue = 'Defect',\n",
    "            order = data['Production'].value_counts().index)\n",
    "for p in g.patches:\n",
    "   g.annotate('{}'.format(p.get_height()), (p.get_x()+0.0, p.get_height()+0.04))\n",
    "plt.xlabel(\"Production\")\n",
    "plt.ylabel(\"Count of data\")\n",
    "plt.show()"
   ]
  },
  {
   "cell_type": "code",
   "execution_count": 41,
   "id": "af827ff8",
   "metadata": {
    "execution": {
     "iopub.execute_input": "2022-12-03T06:27:46.720499Z",
     "iopub.status.busy": "2022-12-03T06:27:46.719904Z",
     "iopub.status.idle": "2022-12-03T06:27:49.184361Z",
     "shell.execute_reply": "2022-12-03T06:27:49.183075Z"
    },
    "papermill": {
     "duration": 2.494649,
     "end_time": "2022-12-03T06:27:49.188404",
     "exception": false,
     "start_time": "2022-12-03T06:27:46.693755",
     "status": "completed"
    },
    "tags": []
   },
   "outputs": [
    {
     "data": {
      "image/png": "[encoded data removed]",
      "text/plain": [
       "<Figure size 864x720 with 2 Axes>"
      ]
     },
     "metadata": {},
     "output_type": "display_data"
    }
   ],
   "source": [
    "plt.figure(figsize=(12,10))\n",
    "\n",
    "from sklearn.preprocessing import LabelEncoder\n",
    "le = LabelEncoder()\n",
    "\n",
    "dat_heat = data\n",
    "dat_heat['Machine'] = le.fit_transform(dat_heat['Machine'])\n",
    "dat_heat['Production'] = le.fit_transform(dat_heat['Production'])\n",
    "dat_heat['Defect'] = le.fit_transform(dat_heat['Defect'])\n",
    "dat_heat['Order Operation No'] = le.fit_transform(dat_heat['Order Operation No'])\n",
    "\n",
    "sns.heatmap(data=dat_heat.corr(),annot=True)\n",
    "plt.title('Heatmap of correlation')\n",
    "plt.show()"
   ]
  },
  {
   "cell_type": "code",
   "execution_count": 42,
   "id": "bbc4270e",
   "metadata": {
    "execution": {
     "iopub.execute_input": "2022-12-03T06:27:49.242723Z",
     "iopub.status.busy": "2022-12-03T06:27:49.241706Z",
     "iopub.status.idle": "2022-12-03T06:27:49.433788Z",
     "shell.execute_reply": "2022-12-03T06:27:49.432273Z"
    },
    "papermill": {
     "duration": 0.222048,
     "end_time": "2022-12-03T06:27:49.436572",
     "exception": false,
     "start_time": "2022-12-03T06:27:49.214524",
     "status": "completed"
    },
    "tags": []
   },
   "outputs": [
    {
     "name": "stderr",
     "output_type": "stream",
     "text": [
      "/opt/conda/lib/python3.7/site-packages/ipykernel_launcher.py:1: FutureWarning: Dropping of nuisance columns in DataFrame reductions (with 'numeric_only=None') is deprecated; in a future version this will raise TypeError.  Select only valid columns before calling the reduction.\n",
      "  \"\"\"Entry point for launching an IPython kernel.\n"
     ]
    },
    {
     "data": {
      "text/plain": [
       "Employee Code         -1.425846\n",
       "Machine                0.000000\n",
       "Production             0.499780\n",
       "Order Operation No    -0.649681\n",
       "Current                1.683945\n",
       "Humidity              54.298536\n",
       "Temperature           61.372905\n",
       "Flow                   0.857899\n",
       "Job Temp               5.391676\n",
       "Voltage                1.108705\n",
       "Defect                12.502735\n",
       "isDefect              11.868084\n",
       "dtype: float64"
      ]
     },
     "execution_count": 42,
     "metadata": {},
     "output_type": "execute_result"
    }
   ],
   "source": [
    "dat_heat.skew(axis = 0, skipna = True)"
   ]
  },
  {
   "cell_type": "markdown",
   "id": "38ccd367",
   "metadata": {
    "papermill": {
     "duration": 0.028383,
     "end_time": "2022-12-03T06:27:49.494929",
     "exception": false,
     "start_time": "2022-12-03T06:27:49.466546",
     "status": "completed"
    },
    "tags": []
   },
   "source": [
    "## Feature Engineering "
   ]
  },
  {
   "cell_type": "code",
   "execution_count": 43,
   "id": "caea08bf",
   "metadata": {
    "execution": {
     "iopub.execute_input": "2022-12-03T06:27:49.551135Z",
     "iopub.status.busy": "2022-12-03T06:27:49.550698Z",
     "iopub.status.idle": "2022-12-03T06:27:49.581574Z",
     "shell.execute_reply": "2022-12-03T06:27:49.580228Z"
    },
    "papermill": {
     "duration": 0.061935,
     "end_time": "2022-12-03T06:27:49.584227",
     "exception": false,
     "start_time": "2022-12-03T06:27:49.522292",
     "status": "completed"
    },
    "tags": []
   },
   "outputs": [
    {
     "data": {
      "text/html": [
       "<div>\n",
       "<style scoped>\n",
       "    .dataframe tbody tr th:only-of-type {\n",
       "        vertical-align: middle;\n",
       "    }\n",
       "\n",
       "    .dataframe tbody tr th {\n",
       "        vertical-align: top;\n",
       "    }\n",
       "\n",
       "    .dataframe thead th {\n",
       "        text-align: right;\n",
       "    }\n",
       "</style>\n",
       "<table border=\"1\" class=\"dataframe\">\n",
       "  <thead>\n",
       "    <tr style=\"text-align: right;\">\n",
       "      <th></th>\n",
       "      <th>Employee Code</th>\n",
       "      <th>Machine</th>\n",
       "      <th>Production</th>\n",
       "      <th>Order Operation No</th>\n",
       "      <th>Date</th>\n",
       "      <th>Time</th>\n",
       "      <th>Current</th>\n",
       "      <th>Humidity</th>\n",
       "      <th>Temperature</th>\n",
       "      <th>Flow</th>\n",
       "      <th>Job Temp</th>\n",
       "      <th>Voltage</th>\n",
       "      <th>Defect</th>\n",
       "      <th>isDefect</th>\n",
       "    </tr>\n",
       "  </thead>\n",
       "  <tbody>\n",
       "    <tr>\n",
       "      <th>0</th>\n",
       "      <td>382617</td>\n",
       "      <td>0</td>\n",
       "      <td>8</td>\n",
       "      <td>4</td>\n",
       "      <td>2022-09-10</td>\n",
       "      <td>7:32:28:527</td>\n",
       "      <td>1.13</td>\n",
       "      <td>74</td>\n",
       "      <td>23</td>\n",
       "      <td>0.01</td>\n",
       "      <td>29.3</td>\n",
       "      <td>15.2</td>\n",
       "      <td>0</td>\n",
       "      <td>0</td>\n",
       "    </tr>\n",
       "    <tr>\n",
       "      <th>1</th>\n",
       "      <td>382617</td>\n",
       "      <td>0</td>\n",
       "      <td>8</td>\n",
       "      <td>4</td>\n",
       "      <td>2022-09-10</td>\n",
       "      <td>7:32:29:40</td>\n",
       "      <td>1.82</td>\n",
       "      <td>74</td>\n",
       "      <td>23</td>\n",
       "      <td>0.00</td>\n",
       "      <td>29.3</td>\n",
       "      <td>0.0</td>\n",
       "      <td>2</td>\n",
       "      <td>1</td>\n",
       "    </tr>\n",
       "    <tr>\n",
       "      <th>2</th>\n",
       "      <td>382617</td>\n",
       "      <td>0</td>\n",
       "      <td>8</td>\n",
       "      <td>4</td>\n",
       "      <td>2022-09-10</td>\n",
       "      <td>7:32:29:677</td>\n",
       "      <td>2.91</td>\n",
       "      <td>74</td>\n",
       "      <td>23</td>\n",
       "      <td>0.00</td>\n",
       "      <td>29.3</td>\n",
       "      <td>0.0</td>\n",
       "      <td>0</td>\n",
       "      <td>0</td>\n",
       "    </tr>\n",
       "    <tr>\n",
       "      <th>3</th>\n",
       "      <td>382617</td>\n",
       "      <td>0</td>\n",
       "      <td>8</td>\n",
       "      <td>4</td>\n",
       "      <td>2022-09-10</td>\n",
       "      <td>7:32:30:166</td>\n",
       "      <td>0.04</td>\n",
       "      <td>74</td>\n",
       "      <td>23</td>\n",
       "      <td>0.00</td>\n",
       "      <td>29.3</td>\n",
       "      <td>0.0</td>\n",
       "      <td>0</td>\n",
       "      <td>0</td>\n",
       "    </tr>\n",
       "    <tr>\n",
       "      <th>4</th>\n",
       "      <td>382617</td>\n",
       "      <td>0</td>\n",
       "      <td>8</td>\n",
       "      <td>4</td>\n",
       "      <td>2022-09-10</td>\n",
       "      <td>7:32:30:696</td>\n",
       "      <td>2.51</td>\n",
       "      <td>74</td>\n",
       "      <td>23</td>\n",
       "      <td>0.00</td>\n",
       "      <td>27.8</td>\n",
       "      <td>0.0</td>\n",
       "      <td>0</td>\n",
       "      <td>0</td>\n",
       "    </tr>\n",
       "    <tr>\n",
       "      <th>...</th>\n",
       "      <td>...</td>\n",
       "      <td>...</td>\n",
       "      <td>...</td>\n",
       "      <td>...</td>\n",
       "      <td>...</td>\n",
       "      <td>...</td>\n",
       "      <td>...</td>\n",
       "      <td>...</td>\n",
       "      <td>...</td>\n",
       "      <td>...</td>\n",
       "      <td>...</td>\n",
       "      <td>...</td>\n",
       "      <td>...</td>\n",
       "      <td>...</td>\n",
       "    </tr>\n",
       "    <tr>\n",
       "      <th>827529</th>\n",
       "      <td>391342</td>\n",
       "      <td>0</td>\n",
       "      <td>3</td>\n",
       "      <td>4</td>\n",
       "      <td>2022-08-29</td>\n",
       "      <td>23:2:13:452</td>\n",
       "      <td>0.33</td>\n",
       "      <td>58</td>\n",
       "      <td>24</td>\n",
       "      <td>0.00</td>\n",
       "      <td>34.0</td>\n",
       "      <td>0.0</td>\n",
       "      <td>0</td>\n",
       "      <td>0</td>\n",
       "    </tr>\n",
       "    <tr>\n",
       "      <th>827530</th>\n",
       "      <td>391342</td>\n",
       "      <td>0</td>\n",
       "      <td>3</td>\n",
       "      <td>4</td>\n",
       "      <td>2022-08-29</td>\n",
       "      <td>23:2:14:46</td>\n",
       "      <td>0.34</td>\n",
       "      <td>58</td>\n",
       "      <td>24</td>\n",
       "      <td>0.00</td>\n",
       "      <td>34.0</td>\n",
       "      <td>0.0</td>\n",
       "      <td>0</td>\n",
       "      <td>0</td>\n",
       "    </tr>\n",
       "    <tr>\n",
       "      <th>827531</th>\n",
       "      <td>391342</td>\n",
       "      <td>0</td>\n",
       "      <td>3</td>\n",
       "      <td>4</td>\n",
       "      <td>2022-08-29</td>\n",
       "      <td>23:2:14:552</td>\n",
       "      <td>-0.86</td>\n",
       "      <td>58</td>\n",
       "      <td>24</td>\n",
       "      <td>0.06</td>\n",
       "      <td>34.0</td>\n",
       "      <td>0.0</td>\n",
       "      <td>0</td>\n",
       "      <td>0</td>\n",
       "    </tr>\n",
       "    <tr>\n",
       "      <th>827532</th>\n",
       "      <td>391342</td>\n",
       "      <td>0</td>\n",
       "      <td>3</td>\n",
       "      <td>4</td>\n",
       "      <td>2022-08-29</td>\n",
       "      <td>23:2:15:143</td>\n",
       "      <td>0.32</td>\n",
       "      <td>58</td>\n",
       "      <td>24</td>\n",
       "      <td>0.00</td>\n",
       "      <td>34.6</td>\n",
       "      <td>0.0</td>\n",
       "      <td>0</td>\n",
       "      <td>0</td>\n",
       "    </tr>\n",
       "    <tr>\n",
       "      <th>827533</th>\n",
       "      <td>391342</td>\n",
       "      <td>0</td>\n",
       "      <td>3</td>\n",
       "      <td>4</td>\n",
       "      <td>2022-08-29</td>\n",
       "      <td>23:2:15:646</td>\n",
       "      <td>0.74</td>\n",
       "      <td>57</td>\n",
       "      <td>24</td>\n",
       "      <td>0.04</td>\n",
       "      <td>34.6</td>\n",
       "      <td>0.0</td>\n",
       "      <td>0</td>\n",
       "      <td>0</td>\n",
       "    </tr>\n",
       "  </tbody>\n",
       "</table>\n",
       "<p>827534 rows × 14 columns</p>\n",
       "</div>"
      ],
      "text/plain": [
       "        Employee Code  Machine  Production  Order Operation No       Date  \\\n",
       "0              382617        0           8                   4 2022-09-10   \n",
       "1              382617        0           8                   4 2022-09-10   \n",
       "2              382617        0           8                   4 2022-09-10   \n",
       "3              382617        0           8                   4 2022-09-10   \n",
       "4              382617        0           8                   4 2022-09-10   \n",
       "...               ...      ...         ...                 ...        ...   \n",
       "827529         391342        0           3                   4 2022-08-29   \n",
       "827530         391342        0           3                   4 2022-08-29   \n",
       "827531         391342        0           3                   4 2022-08-29   \n",
       "827532         391342        0           3                   4 2022-08-29   \n",
       "827533         391342        0           3                   4 2022-08-29   \n",
       "\n",
       "               Time  Current  Humidity  Temperature  Flow  Job Temp  Voltage  \\\n",
       "0       7:32:28:527     1.13        74           23  0.01      29.3     15.2   \n",
       "1        7:32:29:40     1.82        74           23  0.00      29.3      0.0   \n",
       "2       7:32:29:677     2.91        74           23  0.00      29.3      0.0   \n",
       "3       7:32:30:166     0.04        74           23  0.00      29.3      0.0   \n",
       "4       7:32:30:696     2.51        74           23  0.00      27.8      0.0   \n",
       "...             ...      ...       ...          ...   ...       ...      ...   \n",
       "827529  23:2:13:452     0.33        58           24  0.00      34.0      0.0   \n",
       "827530   23:2:14:46     0.34        58           24  0.00      34.0      0.0   \n",
       "827531  23:2:14:552    -0.86        58           24  0.06      34.0      0.0   \n",
       "827532  23:2:15:143     0.32        58           24  0.00      34.6      0.0   \n",
       "827533  23:2:15:646     0.74        57           24  0.04      34.6      0.0   \n",
       "\n",
       "        Defect  isDefect  \n",
       "0            0         0  \n",
       "1            2         1  \n",
       "2            0         0  \n",
       "3            0         0  \n",
       "4            0         0  \n",
       "...        ...       ...  \n",
       "827529       0         0  \n",
       "827530       0         0  \n",
       "827531       0         0  \n",
       "827532       0         0  \n",
       "827533       0         0  \n",
       "\n",
       "[827534 rows x 14 columns]"
      ]
     },
     "execution_count": 43,
     "metadata": {},
     "output_type": "execute_result"
    }
   ],
   "source": [
    "data"
   ]
  },
  {
   "cell_type": "code",
   "execution_count": 44,
   "id": "7dcff76e",
   "metadata": {
    "execution": {
     "iopub.execute_input": "2022-12-03T06:27:49.640217Z",
     "iopub.status.busy": "2022-12-03T06:27:49.638713Z",
     "iopub.status.idle": "2022-12-03T06:27:49.733058Z",
     "shell.execute_reply": "2022-12-03T06:27:49.731459Z"
    },
    "papermill": {
     "duration": 0.126186,
     "end_time": "2022-12-03T06:27:49.736541",
     "exception": false,
     "start_time": "2022-12-03T06:27:49.610355",
     "status": "completed"
    },
    "tags": []
   },
   "outputs": [
    {
     "data": {
      "text/html": [
       "<div>\n",
       "<style scoped>\n",
       "    .dataframe tbody tr th:only-of-type {\n",
       "        vertical-align: middle;\n",
       "    }\n",
       "\n",
       "    .dataframe tbody tr th {\n",
       "        vertical-align: top;\n",
       "    }\n",
       "\n",
       "    .dataframe thead th {\n",
       "        text-align: right;\n",
       "    }\n",
       "</style>\n",
       "<table border=\"1\" class=\"dataframe\">\n",
       "  <thead>\n",
       "    <tr style=\"text-align: right;\">\n",
       "      <th></th>\n",
       "      <th>Date</th>\n",
       "      <th>Time</th>\n",
       "      <th>Current</th>\n",
       "      <th>Humidity</th>\n",
       "      <th>Temperature</th>\n",
       "      <th>Flow</th>\n",
       "      <th>Job Temp</th>\n",
       "      <th>Voltage</th>\n",
       "      <th>Defect</th>\n",
       "      <th>isDefect</th>\n",
       "    </tr>\n",
       "  </thead>\n",
       "  <tbody>\n",
       "    <tr>\n",
       "      <th>0</th>\n",
       "      <td>2022-09-10</td>\n",
       "      <td>7:32:28:527</td>\n",
       "      <td>1.13</td>\n",
       "      <td>74</td>\n",
       "      <td>23</td>\n",
       "      <td>0.01</td>\n",
       "      <td>29.3</td>\n",
       "      <td>15.2</td>\n",
       "      <td>0</td>\n",
       "      <td>0</td>\n",
       "    </tr>\n",
       "    <tr>\n",
       "      <th>1</th>\n",
       "      <td>2022-09-10</td>\n",
       "      <td>7:32:29:40</td>\n",
       "      <td>1.82</td>\n",
       "      <td>74</td>\n",
       "      <td>23</td>\n",
       "      <td>0.00</td>\n",
       "      <td>29.3</td>\n",
       "      <td>0.0</td>\n",
       "      <td>2</td>\n",
       "      <td>1</td>\n",
       "    </tr>\n",
       "    <tr>\n",
       "      <th>2</th>\n",
       "      <td>2022-09-10</td>\n",
       "      <td>7:32:29:677</td>\n",
       "      <td>2.91</td>\n",
       "      <td>74</td>\n",
       "      <td>23</td>\n",
       "      <td>0.00</td>\n",
       "      <td>29.3</td>\n",
       "      <td>0.0</td>\n",
       "      <td>0</td>\n",
       "      <td>0</td>\n",
       "    </tr>\n",
       "    <tr>\n",
       "      <th>3</th>\n",
       "      <td>2022-09-10</td>\n",
       "      <td>7:32:30:166</td>\n",
       "      <td>0.04</td>\n",
       "      <td>74</td>\n",
       "      <td>23</td>\n",
       "      <td>0.00</td>\n",
       "      <td>29.3</td>\n",
       "      <td>0.0</td>\n",
       "      <td>0</td>\n",
       "      <td>0</td>\n",
       "    </tr>\n",
       "    <tr>\n",
       "      <th>4</th>\n",
       "      <td>2022-09-10</td>\n",
       "      <td>7:32:30:696</td>\n",
       "      <td>2.51</td>\n",
       "      <td>74</td>\n",
       "      <td>23</td>\n",
       "      <td>0.00</td>\n",
       "      <td>27.8</td>\n",
       "      <td>0.0</td>\n",
       "      <td>0</td>\n",
       "      <td>0</td>\n",
       "    </tr>\n",
       "    <tr>\n",
       "      <th>...</th>\n",
       "      <td>...</td>\n",
       "      <td>...</td>\n",
       "      <td>...</td>\n",
       "      <td>...</td>\n",
       "      <td>...</td>\n",
       "      <td>...</td>\n",
       "      <td>...</td>\n",
       "      <td>...</td>\n",
       "      <td>...</td>\n",
       "      <td>...</td>\n",
       "    </tr>\n",
       "    <tr>\n",
       "      <th>827529</th>\n",
       "      <td>2022-08-29</td>\n",
       "      <td>23:2:13:452</td>\n",
       "      <td>0.33</td>\n",
       "      <td>58</td>\n",
       "      <td>24</td>\n",
       "      <td>0.00</td>\n",
       "      <td>34.0</td>\n",
       "      <td>0.0</td>\n",
       "      <td>0</td>\n",
       "      <td>0</td>\n",
       "    </tr>\n",
       "    <tr>\n",
       "      <th>827530</th>\n",
       "      <td>2022-08-29</td>\n",
       "      <td>23:2:14:46</td>\n",
       "      <td>0.34</td>\n",
       "      <td>58</td>\n",
       "      <td>24</td>\n",
       "      <td>0.00</td>\n",
       "      <td>34.0</td>\n",
       "      <td>0.0</td>\n",
       "      <td>0</td>\n",
       "      <td>0</td>\n",
       "    </tr>\n",
       "    <tr>\n",
       "      <th>827531</th>\n",
       "      <td>2022-08-29</td>\n",
       "      <td>23:2:14:552</td>\n",
       "      <td>-0.86</td>\n",
       "      <td>58</td>\n",
       "      <td>24</td>\n",
       "      <td>0.06</td>\n",
       "      <td>34.0</td>\n",
       "      <td>0.0</td>\n",
       "      <td>0</td>\n",
       "      <td>0</td>\n",
       "    </tr>\n",
       "    <tr>\n",
       "      <th>827532</th>\n",
       "      <td>2022-08-29</td>\n",
       "      <td>23:2:15:143</td>\n",
       "      <td>0.32</td>\n",
       "      <td>58</td>\n",
       "      <td>24</td>\n",
       "      <td>0.00</td>\n",
       "      <td>34.6</td>\n",
       "      <td>0.0</td>\n",
       "      <td>0</td>\n",
       "      <td>0</td>\n",
       "    </tr>\n",
       "    <tr>\n",
       "      <th>827533</th>\n",
       "      <td>2022-08-29</td>\n",
       "      <td>23:2:15:646</td>\n",
       "      <td>0.74</td>\n",
       "      <td>57</td>\n",
       "      <td>24</td>\n",
       "      <td>0.04</td>\n",
       "      <td>34.6</td>\n",
       "      <td>0.0</td>\n",
       "      <td>0</td>\n",
       "      <td>0</td>\n",
       "    </tr>\n",
       "  </tbody>\n",
       "</table>\n",
       "<p>827534 rows × 10 columns</p>\n",
       "</div>"
      ],
      "text/plain": [
       "             Date         Time  Current  Humidity  Temperature  Flow  \\\n",
       "0      2022-09-10  7:32:28:527     1.13        74           23  0.01   \n",
       "1      2022-09-10   7:32:29:40     1.82        74           23  0.00   \n",
       "2      2022-09-10  7:32:29:677     2.91        74           23  0.00   \n",
       "3      2022-09-10  7:32:30:166     0.04        74           23  0.00   \n",
       "4      2022-09-10  7:32:30:696     2.51        74           23  0.00   \n",
       "...           ...          ...      ...       ...          ...   ...   \n",
       "827529 2022-08-29  23:2:13:452     0.33        58           24  0.00   \n",
       "827530 2022-08-29   23:2:14:46     0.34        58           24  0.00   \n",
       "827531 2022-08-29  23:2:14:552    -0.86        58           24  0.06   \n",
       "827532 2022-08-29  23:2:15:143     0.32        58           24  0.00   \n",
       "827533 2022-08-29  23:2:15:646     0.74        57           24  0.04   \n",
       "\n",
       "        Job Temp  Voltage  Defect  isDefect  \n",
       "0           29.3     15.2       0         0  \n",
       "1           29.3      0.0       2         1  \n",
       "2           29.3      0.0       0         0  \n",
       "3           29.3      0.0       0         0  \n",
       "4           27.8      0.0       0         0  \n",
       "...          ...      ...     ...       ...  \n",
       "827529      34.0      0.0       0         0  \n",
       "827530      34.0      0.0       0         0  \n",
       "827531      34.0      0.0       0         0  \n",
       "827532      34.6      0.0       0         0  \n",
       "827533      34.6      0.0       0         0  \n",
       "\n",
       "[827534 rows x 10 columns]"
      ]
     },
     "execution_count": 44,
     "metadata": {},
     "output_type": "execute_result"
    }
   ],
   "source": [
    "id_feats =['Employee Code', 'Machine', 'Production', 'Order Operation No']\n",
    "data = data.drop(id_feats, axis= 1)\n",
    "data"
   ]
  },
  {
   "cell_type": "code",
   "execution_count": 45,
   "id": "f54ca1b1",
   "metadata": {
    "execution": {
     "iopub.execute_input": "2022-12-03T06:27:49.797252Z",
     "iopub.status.busy": "2022-12-03T06:27:49.796727Z",
     "iopub.status.idle": "2022-12-03T06:27:49.829603Z",
     "shell.execute_reply": "2022-12-03T06:27:49.828146Z"
    },
    "papermill": {
     "duration": 0.064205,
     "end_time": "2022-12-03T06:27:49.832318",
     "exception": false,
     "start_time": "2022-12-03T06:27:49.768113",
     "status": "completed"
    },
    "tags": []
   },
   "outputs": [
    {
     "data": {
      "text/html": [
       "<div>\n",
       "<style scoped>\n",
       "    .dataframe tbody tr th:only-of-type {\n",
       "        vertical-align: middle;\n",
       "    }\n",
       "\n",
       "    .dataframe tbody tr th {\n",
       "        vertical-align: top;\n",
       "    }\n",
       "\n",
       "    .dataframe thead th {\n",
       "        text-align: right;\n",
       "    }\n",
       "</style>\n",
       "<table border=\"1\" class=\"dataframe\">\n",
       "  <thead>\n",
       "    <tr style=\"text-align: right;\">\n",
       "      <th></th>\n",
       "      <th>Date</th>\n",
       "      <th>Time</th>\n",
       "      <th>Current</th>\n",
       "      <th>Humidity</th>\n",
       "      <th>Temperature</th>\n",
       "      <th>Flow</th>\n",
       "      <th>Job Temp</th>\n",
       "      <th>Voltage</th>\n",
       "      <th>Defect</th>\n",
       "      <th>isDefect</th>\n",
       "      <th>power</th>\n",
       "    </tr>\n",
       "  </thead>\n",
       "  <tbody>\n",
       "    <tr>\n",
       "      <th>0</th>\n",
       "      <td>2022-09-10</td>\n",
       "      <td>7:32:28:527</td>\n",
       "      <td>1.13</td>\n",
       "      <td>74</td>\n",
       "      <td>23</td>\n",
       "      <td>0.01</td>\n",
       "      <td>29.3</td>\n",
       "      <td>15.2</td>\n",
       "      <td>0</td>\n",
       "      <td>0</td>\n",
       "      <td>17.176</td>\n",
       "    </tr>\n",
       "    <tr>\n",
       "      <th>1</th>\n",
       "      <td>2022-09-10</td>\n",
       "      <td>7:32:29:40</td>\n",
       "      <td>1.82</td>\n",
       "      <td>74</td>\n",
       "      <td>23</td>\n",
       "      <td>0.00</td>\n",
       "      <td>29.3</td>\n",
       "      <td>0.0</td>\n",
       "      <td>2</td>\n",
       "      <td>1</td>\n",
       "      <td>0.000</td>\n",
       "    </tr>\n",
       "    <tr>\n",
       "      <th>2</th>\n",
       "      <td>2022-09-10</td>\n",
       "      <td>7:32:29:677</td>\n",
       "      <td>2.91</td>\n",
       "      <td>74</td>\n",
       "      <td>23</td>\n",
       "      <td>0.00</td>\n",
       "      <td>29.3</td>\n",
       "      <td>0.0</td>\n",
       "      <td>0</td>\n",
       "      <td>0</td>\n",
       "      <td>0.000</td>\n",
       "    </tr>\n",
       "    <tr>\n",
       "      <th>3</th>\n",
       "      <td>2022-09-10</td>\n",
       "      <td>7:32:30:166</td>\n",
       "      <td>0.04</td>\n",
       "      <td>74</td>\n",
       "      <td>23</td>\n",
       "      <td>0.00</td>\n",
       "      <td>29.3</td>\n",
       "      <td>0.0</td>\n",
       "      <td>0</td>\n",
       "      <td>0</td>\n",
       "      <td>0.000</td>\n",
       "    </tr>\n",
       "    <tr>\n",
       "      <th>4</th>\n",
       "      <td>2022-09-10</td>\n",
       "      <td>7:32:30:696</td>\n",
       "      <td>2.51</td>\n",
       "      <td>74</td>\n",
       "      <td>23</td>\n",
       "      <td>0.00</td>\n",
       "      <td>27.8</td>\n",
       "      <td>0.0</td>\n",
       "      <td>0</td>\n",
       "      <td>0</td>\n",
       "      <td>0.000</td>\n",
       "    </tr>\n",
       "    <tr>\n",
       "      <th>...</th>\n",
       "      <td>...</td>\n",
       "      <td>...</td>\n",
       "      <td>...</td>\n",
       "      <td>...</td>\n",
       "      <td>...</td>\n",
       "      <td>...</td>\n",
       "      <td>...</td>\n",
       "      <td>...</td>\n",
       "      <td>...</td>\n",
       "      <td>...</td>\n",
       "      <td>...</td>\n",
       "    </tr>\n",
       "    <tr>\n",
       "      <th>827529</th>\n",
       "      <td>2022-08-29</td>\n",
       "      <td>23:2:13:452</td>\n",
       "      <td>0.33</td>\n",
       "      <td>58</td>\n",
       "      <td>24</td>\n",
       "      <td>0.00</td>\n",
       "      <td>34.0</td>\n",
       "      <td>0.0</td>\n",
       "      <td>0</td>\n",
       "      <td>0</td>\n",
       "      <td>0.000</td>\n",
       "    </tr>\n",
       "    <tr>\n",
       "      <th>827530</th>\n",
       "      <td>2022-08-29</td>\n",
       "      <td>23:2:14:46</td>\n",
       "      <td>0.34</td>\n",
       "      <td>58</td>\n",
       "      <td>24</td>\n",
       "      <td>0.00</td>\n",
       "      <td>34.0</td>\n",
       "      <td>0.0</td>\n",
       "      <td>0</td>\n",
       "      <td>0</td>\n",
       "      <td>0.000</td>\n",
       "    </tr>\n",
       "    <tr>\n",
       "      <th>827531</th>\n",
       "      <td>2022-08-29</td>\n",
       "      <td>23:2:14:552</td>\n",
       "      <td>-0.86</td>\n",
       "      <td>58</td>\n",
       "      <td>24</td>\n",
       "      <td>0.06</td>\n",
       "      <td>34.0</td>\n",
       "      <td>0.0</td>\n",
       "      <td>0</td>\n",
       "      <td>0</td>\n",
       "      <td>-0.000</td>\n",
       "    </tr>\n",
       "    <tr>\n",
       "      <th>827532</th>\n",
       "      <td>2022-08-29</td>\n",
       "      <td>23:2:15:143</td>\n",
       "      <td>0.32</td>\n",
       "      <td>58</td>\n",
       "      <td>24</td>\n",
       "      <td>0.00</td>\n",
       "      <td>34.6</td>\n",
       "      <td>0.0</td>\n",
       "      <td>0</td>\n",
       "      <td>0</td>\n",
       "      <td>0.000</td>\n",
       "    </tr>\n",
       "    <tr>\n",
       "      <th>827533</th>\n",
       "      <td>2022-08-29</td>\n",
       "      <td>23:2:15:646</td>\n",
       "      <td>0.74</td>\n",
       "      <td>57</td>\n",
       "      <td>24</td>\n",
       "      <td>0.04</td>\n",
       "      <td>34.6</td>\n",
       "      <td>0.0</td>\n",
       "      <td>0</td>\n",
       "      <td>0</td>\n",
       "      <td>0.000</td>\n",
       "    </tr>\n",
       "  </tbody>\n",
       "</table>\n",
       "<p>827534 rows × 11 columns</p>\n",
       "</div>"
      ],
      "text/plain": [
       "             Date         Time  Current  Humidity  Temperature  Flow  \\\n",
       "0      2022-09-10  7:32:28:527     1.13        74           23  0.01   \n",
       "1      2022-09-10   7:32:29:40     1.82        74           23  0.00   \n",
       "2      2022-09-10  7:32:29:677     2.91        74           23  0.00   \n",
       "3      2022-09-10  7:32:30:166     0.04        74           23  0.00   \n",
       "4      2022-09-10  7:32:30:696     2.51        74           23  0.00   \n",
       "...           ...          ...      ...       ...          ...   ...   \n",
       "827529 2022-08-29  23:2:13:452     0.33        58           24  0.00   \n",
       "827530 2022-08-29   23:2:14:46     0.34        58           24  0.00   \n",
       "827531 2022-08-29  23:2:14:552    -0.86        58           24  0.06   \n",
       "827532 2022-08-29  23:2:15:143     0.32        58           24  0.00   \n",
       "827533 2022-08-29  23:2:15:646     0.74        57           24  0.04   \n",
       "\n",
       "        Job Temp  Voltage  Defect  isDefect   power  \n",
       "0           29.3     15.2       0         0  17.176  \n",
       "1           29.3      0.0       2         1   0.000  \n",
       "2           29.3      0.0       0         0   0.000  \n",
       "3           29.3      0.0       0         0   0.000  \n",
       "4           27.8      0.0       0         0   0.000  \n",
       "...          ...      ...     ...       ...     ...  \n",
       "827529      34.0      0.0       0         0   0.000  \n",
       "827530      34.0      0.0       0         0   0.000  \n",
       "827531      34.0      0.0       0         0  -0.000  \n",
       "827532      34.6      0.0       0         0   0.000  \n",
       "827533      34.6      0.0       0         0   0.000  \n",
       "\n",
       "[827534 rows x 11 columns]"
      ]
     },
     "execution_count": 45,
     "metadata": {},
     "output_type": "execute_result"
    }
   ],
   "source": [
    "data['power'] = data['Current']*data['Voltage']\n",
    "data"
   ]
  },
  {
   "cell_type": "code",
   "execution_count": 46,
   "id": "60e9421d",
   "metadata": {
    "execution": {
     "iopub.execute_input": "2022-12-03T06:27:49.893432Z",
     "iopub.status.busy": "2022-12-03T06:27:49.892647Z",
     "iopub.status.idle": "2022-12-03T06:27:50.678479Z",
     "shell.execute_reply": "2022-12-03T06:27:50.677257Z"
    },
    "papermill": {
     "duration": 0.819542,
     "end_time": "2022-12-03T06:27:50.681458",
     "exception": false,
     "start_time": "2022-12-03T06:27:49.861916",
     "status": "completed"
    },
    "tags": []
   },
   "outputs": [
    {
     "data": {
      "text/html": [
       "<div>\n",
       "<style scoped>\n",
       "    .dataframe tbody tr th:only-of-type {\n",
       "        vertical-align: middle;\n",
       "    }\n",
       "\n",
       "    .dataframe tbody tr th {\n",
       "        vertical-align: top;\n",
       "    }\n",
       "\n",
       "    .dataframe thead th {\n",
       "        text-align: right;\n",
       "    }\n",
       "</style>\n",
       "<table border=\"1\" class=\"dataframe\">\n",
       "  <thead>\n",
       "    <tr style=\"text-align: right;\">\n",
       "      <th></th>\n",
       "      <th>Date</th>\n",
       "      <th>Time</th>\n",
       "      <th>Current</th>\n",
       "      <th>Humidity</th>\n",
       "      <th>Temperature</th>\n",
       "      <th>Flow</th>\n",
       "      <th>Job Temp</th>\n",
       "      <th>Voltage</th>\n",
       "      <th>Defect</th>\n",
       "      <th>isDefect</th>\n",
       "      <th>power</th>\n",
       "      <th>Is_Day</th>\n",
       "    </tr>\n",
       "  </thead>\n",
       "  <tbody>\n",
       "    <tr>\n",
       "      <th>0</th>\n",
       "      <td>2022-09-10</td>\n",
       "      <td>7:32:28:527</td>\n",
       "      <td>1.13</td>\n",
       "      <td>74</td>\n",
       "      <td>23</td>\n",
       "      <td>0.01</td>\n",
       "      <td>29.3</td>\n",
       "      <td>15.2</td>\n",
       "      <td>0</td>\n",
       "      <td>0</td>\n",
       "      <td>17.176</td>\n",
       "      <td>1</td>\n",
       "    </tr>\n",
       "    <tr>\n",
       "      <th>1</th>\n",
       "      <td>2022-09-10</td>\n",
       "      <td>7:32:29:40</td>\n",
       "      <td>1.82</td>\n",
       "      <td>74</td>\n",
       "      <td>23</td>\n",
       "      <td>0.00</td>\n",
       "      <td>29.3</td>\n",
       "      <td>0.0</td>\n",
       "      <td>2</td>\n",
       "      <td>1</td>\n",
       "      <td>0.000</td>\n",
       "      <td>1</td>\n",
       "    </tr>\n",
       "    <tr>\n",
       "      <th>2</th>\n",
       "      <td>2022-09-10</td>\n",
       "      <td>7:32:29:677</td>\n",
       "      <td>2.91</td>\n",
       "      <td>74</td>\n",
       "      <td>23</td>\n",
       "      <td>0.00</td>\n",
       "      <td>29.3</td>\n",
       "      <td>0.0</td>\n",
       "      <td>0</td>\n",
       "      <td>0</td>\n",
       "      <td>0.000</td>\n",
       "      <td>1</td>\n",
       "    </tr>\n",
       "    <tr>\n",
       "      <th>3</th>\n",
       "      <td>2022-09-10</td>\n",
       "      <td>7:32:30:166</td>\n",
       "      <td>0.04</td>\n",
       "      <td>74</td>\n",
       "      <td>23</td>\n",
       "      <td>0.00</td>\n",
       "      <td>29.3</td>\n",
       "      <td>0.0</td>\n",
       "      <td>0</td>\n",
       "      <td>0</td>\n",
       "      <td>0.000</td>\n",
       "      <td>1</td>\n",
       "    </tr>\n",
       "    <tr>\n",
       "      <th>4</th>\n",
       "      <td>2022-09-10</td>\n",
       "      <td>7:32:30:696</td>\n",
       "      <td>2.51</td>\n",
       "      <td>74</td>\n",
       "      <td>23</td>\n",
       "      <td>0.00</td>\n",
       "      <td>27.8</td>\n",
       "      <td>0.0</td>\n",
       "      <td>0</td>\n",
       "      <td>0</td>\n",
       "      <td>0.000</td>\n",
       "      <td>1</td>\n",
       "    </tr>\n",
       "    <tr>\n",
       "      <th>...</th>\n",
       "      <td>...</td>\n",
       "      <td>...</td>\n",
       "      <td>...</td>\n",
       "      <td>...</td>\n",
       "      <td>...</td>\n",
       "      <td>...</td>\n",
       "      <td>...</td>\n",
       "      <td>...</td>\n",
       "      <td>...</td>\n",
       "      <td>...</td>\n",
       "      <td>...</td>\n",
       "      <td>...</td>\n",
       "    </tr>\n",
       "    <tr>\n",
       "      <th>827529</th>\n",
       "      <td>2022-08-29</td>\n",
       "      <td>23:2:13:452</td>\n",
       "      <td>0.33</td>\n",
       "      <td>58</td>\n",
       "      <td>24</td>\n",
       "      <td>0.00</td>\n",
       "      <td>34.0</td>\n",
       "      <td>0.0</td>\n",
       "      <td>0</td>\n",
       "      <td>0</td>\n",
       "      <td>0.000</td>\n",
       "      <td>0</td>\n",
       "    </tr>\n",
       "    <tr>\n",
       "      <th>827530</th>\n",
       "      <td>2022-08-29</td>\n",
       "      <td>23:2:14:46</td>\n",
       "      <td>0.34</td>\n",
       "      <td>58</td>\n",
       "      <td>24</td>\n",
       "      <td>0.00</td>\n",
       "      <td>34.0</td>\n",
       "      <td>0.0</td>\n",
       "      <td>0</td>\n",
       "      <td>0</td>\n",
       "      <td>0.000</td>\n",
       "      <td>0</td>\n",
       "    </tr>\n",
       "    <tr>\n",
       "      <th>827531</th>\n",
       "      <td>2022-08-29</td>\n",
       "      <td>23:2:14:552</td>\n",
       "      <td>-0.86</td>\n",
       "      <td>58</td>\n",
       "      <td>24</td>\n",
       "      <td>0.06</td>\n",
       "      <td>34.0</td>\n",
       "      <td>0.0</td>\n",
       "      <td>0</td>\n",
       "      <td>0</td>\n",
       "      <td>-0.000</td>\n",
       "      <td>0</td>\n",
       "    </tr>\n",
       "    <tr>\n",
       "      <th>827532</th>\n",
       "      <td>2022-08-29</td>\n",
       "      <td>23:2:15:143</td>\n",
       "      <td>0.32</td>\n",
       "      <td>58</td>\n",
       "      <td>24</td>\n",
       "      <td>0.00</td>\n",
       "      <td>34.6</td>\n",
       "      <td>0.0</td>\n",
       "      <td>0</td>\n",
       "      <td>0</td>\n",
       "      <td>0.000</td>\n",
       "      <td>0</td>\n",
       "    </tr>\n",
       "    <tr>\n",
       "      <th>827533</th>\n",
       "      <td>2022-08-29</td>\n",
       "      <td>23:2:15:646</td>\n",
       "      <td>0.74</td>\n",
       "      <td>57</td>\n",
       "      <td>24</td>\n",
       "      <td>0.04</td>\n",
       "      <td>34.6</td>\n",
       "      <td>0.0</td>\n",
       "      <td>0</td>\n",
       "      <td>0</td>\n",
       "      <td>0.000</td>\n",
       "      <td>0</td>\n",
       "    </tr>\n",
       "  </tbody>\n",
       "</table>\n",
       "<p>827534 rows × 12 columns</p>\n",
       "</div>"
      ],
      "text/plain": [
       "             Date         Time  Current  Humidity  Temperature  Flow  \\\n",
       "0      2022-09-10  7:32:28:527     1.13        74           23  0.01   \n",
       "1      2022-09-10   7:32:29:40     1.82        74           23  0.00   \n",
       "2      2022-09-10  7:32:29:677     2.91        74           23  0.00   \n",
       "3      2022-09-10  7:32:30:166     0.04        74           23  0.00   \n",
       "4      2022-09-10  7:32:30:696     2.51        74           23  0.00   \n",
       "...           ...          ...      ...       ...          ...   ...   \n",
       "827529 2022-08-29  23:2:13:452     0.33        58           24  0.00   \n",
       "827530 2022-08-29   23:2:14:46     0.34        58           24  0.00   \n",
       "827531 2022-08-29  23:2:14:552    -0.86        58           24  0.06   \n",
       "827532 2022-08-29  23:2:15:143     0.32        58           24  0.00   \n",
       "827533 2022-08-29  23:2:15:646     0.74        57           24  0.04   \n",
       "\n",
       "        Job Temp  Voltage  Defect  isDefect   power  Is_Day  \n",
       "0           29.3     15.2       0         0  17.176       1  \n",
       "1           29.3      0.0       2         1   0.000       1  \n",
       "2           29.3      0.0       0         0   0.000       1  \n",
       "3           29.3      0.0       0         0   0.000       1  \n",
       "4           27.8      0.0       0         0   0.000       1  \n",
       "...          ...      ...     ...       ...     ...     ...  \n",
       "827529      34.0      0.0       0         0   0.000       0  \n",
       "827530      34.0      0.0       0         0   0.000       0  \n",
       "827531      34.0      0.0       0         0  -0.000       0  \n",
       "827532      34.6      0.0       0         0   0.000       0  \n",
       "827533      34.6      0.0       0         0   0.000       0  \n",
       "\n",
       "[827534 rows x 12 columns]"
      ]
     },
     "execution_count": 46,
     "metadata": {},
     "output_type": "execute_result"
    }
   ],
   "source": [
    "## Is it day or night\n",
    "\n",
    "def is_day(x):\n",
    "    temp = int(x.split(':')[0])\n",
    "    if temp<=18 and temp<=7 :\n",
    "        return 1\n",
    "    else:\n",
    "        return 0\n",
    "    \n",
    "data['Is_Day'] = data['Time'].apply(is_day)\n",
    "data"
   ]
  },
  {
   "cell_type": "code",
   "execution_count": 47,
   "id": "a8bc5eb2",
   "metadata": {
    "execution": {
     "iopub.execute_input": "2022-12-03T06:27:50.741062Z",
     "iopub.status.busy": "2022-12-03T06:27:50.740609Z",
     "iopub.status.idle": "2022-12-03T06:27:50.816730Z",
     "shell.execute_reply": "2022-12-03T06:27:50.815792Z"
    },
    "papermill": {
     "duration": 0.109099,
     "end_time": "2022-12-03T06:27:50.818923",
     "exception": false,
     "start_time": "2022-12-03T06:27:50.709824",
     "status": "completed"
    },
    "tags": []
   },
   "outputs": [
    {
     "data": {
      "text/html": [
       "<div>\n",
       "<style scoped>\n",
       "    .dataframe tbody tr th:only-of-type {\n",
       "        vertical-align: middle;\n",
       "    }\n",
       "\n",
       "    .dataframe tbody tr th {\n",
       "        vertical-align: top;\n",
       "    }\n",
       "\n",
       "    .dataframe thead th {\n",
       "        text-align: right;\n",
       "    }\n",
       "</style>\n",
       "<table border=\"1\" class=\"dataframe\">\n",
       "  <thead>\n",
       "    <tr style=\"text-align: right;\">\n",
       "      <th></th>\n",
       "      <th>Current</th>\n",
       "      <th>Humidity</th>\n",
       "      <th>Temperature</th>\n",
       "      <th>Flow</th>\n",
       "      <th>Job Temp</th>\n",
       "      <th>Voltage</th>\n",
       "      <th>Defect</th>\n",
       "      <th>isDefect</th>\n",
       "      <th>power</th>\n",
       "      <th>Is_Day</th>\n",
       "    </tr>\n",
       "  </thead>\n",
       "  <tbody>\n",
       "    <tr>\n",
       "      <th>0</th>\n",
       "      <td>1.13</td>\n",
       "      <td>74</td>\n",
       "      <td>23</td>\n",
       "      <td>0.01</td>\n",
       "      <td>29.3</td>\n",
       "      <td>15.2</td>\n",
       "      <td>0</td>\n",
       "      <td>0</td>\n",
       "      <td>17.176</td>\n",
       "      <td>1</td>\n",
       "    </tr>\n",
       "    <tr>\n",
       "      <th>1</th>\n",
       "      <td>1.82</td>\n",
       "      <td>74</td>\n",
       "      <td>23</td>\n",
       "      <td>0.00</td>\n",
       "      <td>29.3</td>\n",
       "      <td>0.0</td>\n",
       "      <td>2</td>\n",
       "      <td>1</td>\n",
       "      <td>0.000</td>\n",
       "      <td>1</td>\n",
       "    </tr>\n",
       "    <tr>\n",
       "      <th>2</th>\n",
       "      <td>2.91</td>\n",
       "      <td>74</td>\n",
       "      <td>23</td>\n",
       "      <td>0.00</td>\n",
       "      <td>29.3</td>\n",
       "      <td>0.0</td>\n",
       "      <td>0</td>\n",
       "      <td>0</td>\n",
       "      <td>0.000</td>\n",
       "      <td>1</td>\n",
       "    </tr>\n",
       "    <tr>\n",
       "      <th>3</th>\n",
       "      <td>0.04</td>\n",
       "      <td>74</td>\n",
       "      <td>23</td>\n",
       "      <td>0.00</td>\n",
       "      <td>29.3</td>\n",
       "      <td>0.0</td>\n",
       "      <td>0</td>\n",
       "      <td>0</td>\n",
       "      <td>0.000</td>\n",
       "      <td>1</td>\n",
       "    </tr>\n",
       "    <tr>\n",
       "      <th>4</th>\n",
       "      <td>2.51</td>\n",
       "      <td>74</td>\n",
       "      <td>23</td>\n",
       "      <td>0.00</td>\n",
       "      <td>27.8</td>\n",
       "      <td>0.0</td>\n",
       "      <td>0</td>\n",
       "      <td>0</td>\n",
       "      <td>0.000</td>\n",
       "      <td>1</td>\n",
       "    </tr>\n",
       "    <tr>\n",
       "      <th>...</th>\n",
       "      <td>...</td>\n",
       "      <td>...</td>\n",
       "      <td>...</td>\n",
       "      <td>...</td>\n",
       "      <td>...</td>\n",
       "      <td>...</td>\n",
       "      <td>...</td>\n",
       "      <td>...</td>\n",
       "      <td>...</td>\n",
       "      <td>...</td>\n",
       "    </tr>\n",
       "    <tr>\n",
       "      <th>827529</th>\n",
       "      <td>0.33</td>\n",
       "      <td>58</td>\n",
       "      <td>24</td>\n",
       "      <td>0.00</td>\n",
       "      <td>34.0</td>\n",
       "      <td>0.0</td>\n",
       "      <td>0</td>\n",
       "      <td>0</td>\n",
       "      <td>0.000</td>\n",
       "      <td>0</td>\n",
       "    </tr>\n",
       "    <tr>\n",
       "      <th>827530</th>\n",
       "      <td>0.34</td>\n",
       "      <td>58</td>\n",
       "      <td>24</td>\n",
       "      <td>0.00</td>\n",
       "      <td>34.0</td>\n",
       "      <td>0.0</td>\n",
       "      <td>0</td>\n",
       "      <td>0</td>\n",
       "      <td>0.000</td>\n",
       "      <td>0</td>\n",
       "    </tr>\n",
       "    <tr>\n",
       "      <th>827531</th>\n",
       "      <td>-0.86</td>\n",
       "      <td>58</td>\n",
       "      <td>24</td>\n",
       "      <td>0.06</td>\n",
       "      <td>34.0</td>\n",
       "      <td>0.0</td>\n",
       "      <td>0</td>\n",
       "      <td>0</td>\n",
       "      <td>-0.000</td>\n",
       "      <td>0</td>\n",
       "    </tr>\n",
       "    <tr>\n",
       "      <th>827532</th>\n",
       "      <td>0.32</td>\n",
       "      <td>58</td>\n",
       "      <td>24</td>\n",
       "      <td>0.00</td>\n",
       "      <td>34.6</td>\n",
       "      <td>0.0</td>\n",
       "      <td>0</td>\n",
       "      <td>0</td>\n",
       "      <td>0.000</td>\n",
       "      <td>0</td>\n",
       "    </tr>\n",
       "    <tr>\n",
       "      <th>827533</th>\n",
       "      <td>0.74</td>\n",
       "      <td>57</td>\n",
       "      <td>24</td>\n",
       "      <td>0.04</td>\n",
       "      <td>34.6</td>\n",
       "      <td>0.0</td>\n",
       "      <td>0</td>\n",
       "      <td>0</td>\n",
       "      <td>0.000</td>\n",
       "      <td>0</td>\n",
       "    </tr>\n",
       "  </tbody>\n",
       "</table>\n",
       "<p>827534 rows × 10 columns</p>\n",
       "</div>"
      ],
      "text/plain": [
       "        Current  Humidity  Temperature  Flow  Job Temp  Voltage  Defect  \\\n",
       "0          1.13        74           23  0.01      29.3     15.2       0   \n",
       "1          1.82        74           23  0.00      29.3      0.0       2   \n",
       "2          2.91        74           23  0.00      29.3      0.0       0   \n",
       "3          0.04        74           23  0.00      29.3      0.0       0   \n",
       "4          2.51        74           23  0.00      27.8      0.0       0   \n",
       "...         ...       ...          ...   ...       ...      ...     ...   \n",
       "827529     0.33        58           24  0.00      34.0      0.0       0   \n",
       "827530     0.34        58           24  0.00      34.0      0.0       0   \n",
       "827531    -0.86        58           24  0.06      34.0      0.0       0   \n",
       "827532     0.32        58           24  0.00      34.6      0.0       0   \n",
       "827533     0.74        57           24  0.04      34.6      0.0       0   \n",
       "\n",
       "        isDefect   power  Is_Day  \n",
       "0              0  17.176       1  \n",
       "1              1   0.000       1  \n",
       "2              0   0.000       1  \n",
       "3              0   0.000       1  \n",
       "4              0   0.000       1  \n",
       "...          ...     ...     ...  \n",
       "827529         0   0.000       0  \n",
       "827530         0   0.000       0  \n",
       "827531         0  -0.000       0  \n",
       "827532         0   0.000       0  \n",
       "827533         0   0.000       0  \n",
       "\n",
       "[827534 rows x 10 columns]"
      ]
     },
     "execution_count": 47,
     "metadata": {},
     "output_type": "execute_result"
    }
   ],
   "source": [
    "time_feats = ['Date', 'Time']\n",
    "data = data.drop(time_feats, axis= 1)\n",
    "data"
   ]
  },
  {
   "cell_type": "code",
   "execution_count": 48,
   "id": "ef193c20",
   "metadata": {
    "execution": {
     "iopub.execute_input": "2022-12-03T06:27:50.876480Z",
     "iopub.status.busy": "2022-12-03T06:27:50.875799Z",
     "iopub.status.idle": "2022-12-03T06:27:59.032761Z",
     "shell.execute_reply": "2022-12-03T06:27:59.030880Z"
    },
    "papermill": {
     "duration": 8.189069,
     "end_time": "2022-12-03T06:27:59.035500",
     "exception": false,
     "start_time": "2022-12-03T06:27:50.846431",
     "status": "completed"
    },
    "tags": []
   },
   "outputs": [
    {
     "name": "stderr",
     "output_type": "stream",
     "text": [
      "/opt/conda/lib/python3.7/site-packages/seaborn/distributions.py:316: UserWarning: Dataset has 0 variance; skipping density estimate. Pass `warn_singular=False` to disable this warning.\n",
      "  warnings.warn(msg, UserWarning)\n"
     ]
    },
    {
     "data": {
      "text/plain": [
       "<seaborn.axisgrid.FacetGrid at 0x7fa0c7932790>"
      ]
     },
     "execution_count": 48,
     "metadata": {},
     "output_type": "execute_result"
    },
    {
     "data": {
      "image/png": "[encoded data removed]",
      "text/plain": [
       "<Figure size 624.325x360 with 1 Axes>"
      ]
     },
     "metadata": {},
     "output_type": "display_data"
    }
   ],
   "source": [
    "## Binning of Flow Column\n",
    "\n",
    "from sklearn.mixture import GaussianMixture\n",
    "n_components = 4\n",
    "gmm = GaussianMixture( n_components = n_components )\n",
    " \n",
    "# Fit the GMM model for the dataset\n",
    "# which expresses the dataset as a\n",
    "# mixture of 3 Gaussian Distribution\n",
    "gmm.fit(data['Flow'].values.reshape(-1,1))\n",
    " \n",
    "# Assign a label to each sample\n",
    "labels = gmm.predict(data['Flow'].values.reshape(-1,1))\n",
    "data['label_Flow']= labels\n",
    "# plot three clusters in same plot\n",
    "sns.displot(data=data, x='Flow', hue='label_Flow', kind='kde', fill=True, palette=sns.color_palette('bright')[:n_components ], height=5, aspect=1.5)"
   ]
  },
  {
   "cell_type": "code",
   "execution_count": 49,
   "id": "092cfd4e",
   "metadata": {
    "execution": {
     "iopub.execute_input": "2022-12-03T06:27:59.095918Z",
     "iopub.status.busy": "2022-12-03T06:27:59.095497Z",
     "iopub.status.idle": "2022-12-03T06:27:59.301691Z",
     "shell.execute_reply": "2022-12-03T06:27:59.300766Z"
    },
    "papermill": {
     "duration": 0.239194,
     "end_time": "2022-12-03T06:27:59.303977",
     "exception": false,
     "start_time": "2022-12-03T06:27:59.064783",
     "status": "completed"
    },
    "tags": []
   },
   "outputs": [
    {
     "data": {
      "text/html": [
       "        <script type=\"text/javascript\">\n",
       "        window.PlotlyConfig = {MathJaxConfig: 'local'};\n",
       "        if (window.MathJax && window.MathJax.Hub && window.MathJax.Hub.Config) {window.MathJax.Hub.Config({SVG: {font: \"STIX-Web\"}});}\n",
       "        if (typeof require !== 'undefined') {\n",
       "        require.undef(\"plotly\");\n",
       "        requirejs.config({\n",
       "            paths: {\n",
       "                'plotly': ['https://cdn.plot.ly/plotly-2.14.0.min']\n",
       "            }\n",
       "        });\n",
       "        require(['plotly'], function(Plotly) {\n",
       "            window._Plotly = Plotly;\n",
       "        });\n",
       "        }\n",
       "        </script>\n",
       "        "
      ]
     },
     "metadata": {},
     "output_type": "display_data"
    },
    {
     "data": {
      "text/html": [
       "<div>                            <div id=\"e9530c43-dcfd-4f68-9e0f-6731150bf5fe\" class=\"plotly-graph-div\" style=\"height:525px; width:100%;\"></div>            <script type=\"text/javascript\">                require([\"plotly\"], function(Plotly) {                    window.PLOTLYENV=window.PLOTLYENV || {};                                    if (document.getElementById(\"e9530c43-dcfd-4f68-9e0f-6731150bf5fe\")) {                    Plotly.newPlot(                        \"e9530c43-dcfd-4f68-9e0f-6731150bf5fe\",                        [{\"hole\":0.3,\"labels\":[\"0\",\"1\"],\"values\":[0.9930480197792477,0.006951980220752259],\"type\":\"pie\",\"textfont\":{\"size\":20},\"marker\":{\"line\":{\"color\":\"#000000\",\"width\":2},\"colors\":[\"gold\",\"mediumturquoise\"]},\"hoverinfo\":\"label+percent\",\"textinfo\":\"percent\"}],                        {\"template\":{\"data\":{\"histogram2dcontour\":[{\"type\":\"histogram2dcontour\",\"colorbar\":{\"outlinewidth\":0,\"ticks\":\"\"},\"colorscale\":[[0.0,\"#0d0887\"],[0.1111111111111111,\"#46039f\"],[0.2222222222222222,\"#7201a8\"],[0.3333333333333333,\"#9c179e\"],[0.4444444444444444,\"#bd3786\"],[0.5555555555555556,\"#d8576b\"],[0.6666666666666666,\"#ed7953\"],[0.7777777777777778,\"#fb9f3a\"],[0.8888888888888888,\"#fdca26\"],[1.0,\"#f0f921\"]]}],\"choropleth\":[{\"type\":\"choropleth\",\"colorbar\":{\"outlinewidth\":0,\"ticks\":\"\"}}],\"histogram2d\":[{\"type\":\"histogram2d\",\"colorbar\":{\"outlinewidth\":0,\"ticks\":\"\"},\"colorscale\":[[0.0,\"#0d0887\"],[0.1111111111111111,\"#46039f\"],[0.2222222222222222,\"#7201a8\"],[0.3333333333333333,\"#9c179e\"],[0.4444444444444444,\"#bd3786\"],[0.5555555555555556,\"#d8576b\"],[0.6666666666666666,\"#ed7953\"],[0.7777777777777778,\"#fb9f3a\"],[0.8888888888888888,\"#fdca26\"],[1.0,\"#f0f921\"]]}],\"heatmap\":[{\"type\":\"heatmap\",\"colorbar\":{\"outlinewidth\":0,\"ticks\":\"\"},\"colorscale\":[[0.0,\"#0d0887\"],[0.1111111111111111,\"#46039f\"],[0.2222222222222222,\"#7201a8\"],[0.3333333333333333,\"#9c179e\"],[0.4444444444444444,\"#bd3786\"],[0.5555555555555556,\"#d8576b\"],[0.6666666666666666,\"#ed7953\"],[0.7777777777777778,\"#fb9f3a\"],[0.8888888888888888,\"#fdca26\"],[1.0,\"#f0f921\"]]}],\"heatmapgl\":[{\"type\":\"heatmapgl\",\"colorbar\":{\"outlinewidth\":0,\"ticks\":\"\"},\"colorscale\":[[0.0,\"#0d0887\"],[0.1111111111111111,\"#46039f\"],[0.2222222222222222,\"#7201a8\"],[0.3333333333333333,\"#9c179e\"],[0.4444444444444444,\"#bd3786\"],[0.5555555555555556,\"#d8576b\"],[0.6666666666666666,\"#ed7953\"],[0.7777777777777778,\"#fb9f3a\"],[0.8888888888888888,\"#fdca26\"],[1.0,\"#f0f921\"]]}],\"contourcarpet\":[{\"type\":\"contourcarpet\",\"colorbar\":{\"outlinewidth\":0,\"ticks\":\"\"}}],\"contour\":[{\"type\":\"contour\",\"colorbar\":{\"outlinewidth\":0,\"ticks\":\"\"},\"colorscale\":[[0.0,\"#0d0887\"],[0.1111111111111111,\"#46039f\"],[0.2222222222222222,\"#7201a8\"],[0.3333333333333333,\"#9c179e\"],[0.4444444444444444,\"#bd3786\"],[0.5555555555555556,\"#d8576b\"],[0.6666666666666666,\"#ed7953\"],[0.7777777777777778,\"#fb9f3a\"],[0.8888888888888888,\"#fdca26\"],[1.0,\"#f0f921\"]]}],\"surface\":[{\"type\":\"surface\",\"colorbar\":{\"outlinewidth\":0,\"ticks\":\"\"},\"colorscale\":[[0.0,\"#0d0887\"],[0.1111111111111111,\"#46039f\"],[0.2222222222222222,\"#7201a8\"],[0.3333333333333333,\"#9c179e\"],[0.4444444444444444,\"#bd3786\"],[0.5555555555555556,\"#d8576b\"],[0.6666666666666666,\"#ed7953\"],[0.7777777777777778,\"#fb9f3a\"],[0.8888888888888888,\"#fdca26\"],[1.0,\"#f0f921\"]]}],\"mesh3d\":[{\"type\":\"mesh3d\",\"colorbar\":{\"outlinewidth\":0,\"ticks\":\"\"}}],\"scatter\":[{\"fillpattern\":{\"fillmode\":\"overlay\",\"size\":10,\"solidity\":0.2},\"type\":\"scatter\"}],\"parcoords\":[{\"type\":\"parcoords\",\"line\":{\"colorbar\":{\"outlinewidth\":0,\"ticks\":\"\"}}}],\"scatterpolargl\":[{\"type\":\"scatterpolargl\",\"marker\":{\"colorbar\":{\"outlinewidth\":0,\"ticks\":\"\"}}}],\"bar\":[{\"error_x\":{\"color\":\"#2a3f5f\"},\"error_y\":{\"color\":\"#2a3f5f\"},\"marker\":{\"line\":{\"color\":\"#E5ECF6\",\"width\":0.5},\"pattern\":{\"fillmode\":\"overlay\",\"size\":10,\"solidity\":0.2}},\"type\":\"bar\"}],\"scattergeo\":[{\"type\":\"scattergeo\",\"marker\":{\"colorbar\":{\"outlinewidth\":0,\"ticks\":\"\"}}}],\"scatterpolar\":[{\"type\":\"scatterpolar\",\"marker\":{\"colorbar\":{\"outlinewidth\":0,\"ticks\":\"\"}}}],\"histogram\":[{\"marker\":{\"pattern\":{\"fillmode\":\"overlay\",\"size\":10,\"solidity\":0.2}},\"type\":\"histogram\"}],\"scattergl\":[{\"type\":\"scattergl\",\"marker\":{\"colorbar\":{\"outlinewidth\":0,\"ticks\":\"\"}}}],\"scatter3d\":[{\"type\":\"scatter3d\",\"line\":{\"colorbar\":{\"outlinewidth\":0,\"ticks\":\"\"}},\"marker\":{\"colorbar\":{\"outlinewidth\":0,\"ticks\":\"\"}}}],\"scattermapbox\":[{\"type\":\"scattermapbox\",\"marker\":{\"colorbar\":{\"outlinewidth\":0,\"ticks\":\"\"}}}],\"scatterternary\":[{\"type\":\"scatterternary\",\"marker\":{\"colorbar\":{\"outlinewidth\":0,\"ticks\":\"\"}}}],\"scattercarpet\":[{\"type\":\"scattercarpet\",\"marker\":{\"colorbar\":{\"outlinewidth\":0,\"ticks\":\"\"}}}],\"carpet\":[{\"aaxis\":{\"endlinecolor\":\"#2a3f5f\",\"gridcolor\":\"white\",\"linecolor\":\"white\",\"minorgridcolor\":\"white\",\"startlinecolor\":\"#2a3f5f\"},\"baxis\":{\"endlinecolor\":\"#2a3f5f\",\"gridcolor\":\"white\",\"linecolor\":\"white\",\"minorgridcolor\":\"white\",\"startlinecolor\":\"#2a3f5f\"},\"type\":\"carpet\"}],\"table\":[{\"cells\":{\"fill\":{\"color\":\"#EBF0F8\"},\"line\":{\"color\":\"white\"}},\"header\":{\"fill\":{\"color\":\"#C8D4E3\"},\"line\":{\"color\":\"white\"}},\"type\":\"table\"}],\"barpolar\":[{\"marker\":{\"line\":{\"color\":\"#E5ECF6\",\"width\":0.5},\"pattern\":{\"fillmode\":\"overlay\",\"size\":10,\"solidity\":0.2}},\"type\":\"barpolar\"}],\"pie\":[{\"automargin\":true,\"type\":\"pie\"}]},\"layout\":{\"autotypenumbers\":\"strict\",\"colorway\":[\"#636efa\",\"#EF553B\",\"#00cc96\",\"#ab63fa\",\"#FFA15A\",\"#19d3f3\",\"#FF6692\",\"#B6E880\",\"#FF97FF\",\"#FECB52\"],\"font\":{\"color\":\"#2a3f5f\"},\"hovermode\":\"closest\",\"hoverlabel\":{\"align\":\"left\"},\"paper_bgcolor\":\"white\",\"plot_bgcolor\":\"#E5ECF6\",\"polar\":{\"bgcolor\":\"#E5ECF6\",\"angularaxis\":{\"gridcolor\":\"white\",\"linecolor\":\"white\",\"ticks\":\"\"},\"radialaxis\":{\"gridcolor\":\"white\",\"linecolor\":\"white\",\"ticks\":\"\"}},\"ternary\":{\"bgcolor\":\"#E5ECF6\",\"aaxis\":{\"gridcolor\":\"white\",\"linecolor\":\"white\",\"ticks\":\"\"},\"baxis\":{\"gridcolor\":\"white\",\"linecolor\":\"white\",\"ticks\":\"\"},\"caxis\":{\"gridcolor\":\"white\",\"linecolor\":\"white\",\"ticks\":\"\"}},\"coloraxis\":{\"colorbar\":{\"outlinewidth\":0,\"ticks\":\"\"}},\"colorscale\":{\"sequential\":[[0.0,\"#0d0887\"],[0.1111111111111111,\"#46039f\"],[0.2222222222222222,\"#7201a8\"],[0.3333333333333333,\"#9c179e\"],[0.4444444444444444,\"#bd3786\"],[0.5555555555555556,\"#d8576b\"],[0.6666666666666666,\"#ed7953\"],[0.7777777777777778,\"#fb9f3a\"],[0.8888888888888888,\"#fdca26\"],[1.0,\"#f0f921\"]],\"sequentialminus\":[[0.0,\"#0d0887\"],[0.1111111111111111,\"#46039f\"],[0.2222222222222222,\"#7201a8\"],[0.3333333333333333,\"#9c179e\"],[0.4444444444444444,\"#bd3786\"],[0.5555555555555556,\"#d8576b\"],[0.6666666666666666,\"#ed7953\"],[0.7777777777777778,\"#fb9f3a\"],[0.8888888888888888,\"#fdca26\"],[1.0,\"#f0f921\"]],\"diverging\":[[0,\"#8e0152\"],[0.1,\"#c51b7d\"],[0.2,\"#de77ae\"],[0.3,\"#f1b6da\"],[0.4,\"#fde0ef\"],[0.5,\"#f7f7f7\"],[0.6,\"#e6f5d0\"],[0.7,\"#b8e186\"],[0.8,\"#7fbc41\"],[0.9,\"#4d9221\"],[1,\"#276419\"]]},\"xaxis\":{\"gridcolor\":\"white\",\"linecolor\":\"white\",\"ticks\":\"\",\"title\":{\"standoff\":15},\"zerolinecolor\":\"white\",\"automargin\":true,\"zerolinewidth\":2},\"yaxis\":{\"gridcolor\":\"white\",\"linecolor\":\"white\",\"ticks\":\"\",\"title\":{\"standoff\":15},\"zerolinecolor\":\"white\",\"automargin\":true,\"zerolinewidth\":2},\"scene\":{\"xaxis\":{\"backgroundcolor\":\"#E5ECF6\",\"gridcolor\":\"white\",\"linecolor\":\"white\",\"showbackground\":true,\"ticks\":\"\",\"zerolinecolor\":\"white\",\"gridwidth\":2},\"yaxis\":{\"backgroundcolor\":\"#E5ECF6\",\"gridcolor\":\"white\",\"linecolor\":\"white\",\"showbackground\":true,\"ticks\":\"\",\"zerolinecolor\":\"white\",\"gridwidth\":2},\"zaxis\":{\"backgroundcolor\":\"#E5ECF6\",\"gridcolor\":\"white\",\"linecolor\":\"white\",\"showbackground\":true,\"ticks\":\"\",\"zerolinecolor\":\"white\",\"gridwidth\":2}},\"shapedefaults\":{\"line\":{\"color\":\"#2a3f5f\"}},\"annotationdefaults\":{\"arrowcolor\":\"#2a3f5f\",\"arrowhead\":0,\"arrowwidth\":1},\"geo\":{\"bgcolor\":\"white\",\"landcolor\":\"#E5ECF6\",\"subunitcolor\":\"white\",\"showland\":true,\"showlakes\":true,\"lakecolor\":\"white\"},\"title\":{\"x\":0.05},\"mapbox\":{\"style\":\"light\"}}},\"title\":{\"text\":\"Outcome\"}},                        {\"responsive\": true}                    ).then(function(){\n",
       "                            \n",
       "var gd = document.getElementById('e9530c43-dcfd-4f68-9e0f-6731150bf5fe');\n",
       "var x = new MutationObserver(function (mutations, observer) {{\n",
       "        var display = window.getComputedStyle(gd).display;\n",
       "        if (!display || display === 'none') {{\n",
       "            console.log([gd, 'removed!']);\n",
       "            Plotly.purge(gd);\n",
       "            observer.disconnect();\n",
       "        }}\n",
       "}});\n",
       "\n",
       "// Listen for the removal of the full notebook cells\n",
       "var notebookContainer = gd.closest('#notebook-container');\n",
       "if (notebookContainer) {{\n",
       "    x.observe(notebookContainer, {childList: true});\n",
       "}}\n",
       "\n",
       "// Listen for the clearing of the current output cell\n",
       "var outputEl = gd.closest('.output');\n",
       "if (outputEl) {{\n",
       "    x.observe(outputEl, {childList: true});\n",
       "}}\n",
       "\n",
       "                        })                };                });            </script>        </div>"
      ]
     },
     "metadata": {},
     "output_type": "display_data"
    }
   ],
   "source": [
    "## Checking Target Imbalance\n",
    "import plotly.graph_objects as go\n",
    "\n",
    "colors = ['gold', 'mediumturquoise']\n",
    "labels = ['0','1']\n",
    "values = data['isDefect'].value_counts()/data['isDefect'].shape[0]\n",
    "\n",
    "# Use `hole` to create a donut-like pie chart\n",
    "fig=go.Figure(data=[go.Pie(labels=labels, values=values, hole=.3)])\n",
    "fig.update_traces(hoverinfo='label+percent', textinfo='percent', textfont_size=20,\n",
    "                  marker=dict(colors=colors, line=dict(color='#000000', width=2)))\n",
    "fig.update_layout(title_text=\"Outcome\")\n",
    "fig.show()"
   ]
  },
  {
   "cell_type": "markdown",
   "id": "59242dd0",
   "metadata": {
    "papermill": {
     "duration": 0.028596,
     "end_time": "2022-12-03T06:27:59.362725",
     "exception": false,
     "start_time": "2022-12-03T06:27:59.334129",
     "status": "completed"
    },
    "tags": []
   },
   "source": [
    "## Train-Test Split"
   ]
  },
  {
   "cell_type": "code",
   "execution_count": 50,
   "id": "d6d52e2f",
   "metadata": {
    "execution": {
     "iopub.execute_input": "2022-12-03T06:27:59.424266Z",
     "iopub.status.busy": "2022-12-03T06:27:59.423778Z",
     "iopub.status.idle": "2022-12-03T06:27:59.429790Z",
     "shell.execute_reply": "2022-12-03T06:27:59.428491Z"
    },
    "papermill": {
     "duration": 0.03979,
     "end_time": "2022-12-03T06:27:59.432472",
     "exception": false,
     "start_time": "2022-12-03T06:27:59.392682",
     "status": "completed"
    },
    "tags": []
   },
   "outputs": [],
   "source": [
    "target1 = data['Defect']\n",
    "target2 = data['isDefect']"
   ]
  },
  {
   "cell_type": "code",
   "execution_count": 51,
   "id": "372212c7",
   "metadata": {
    "execution": {
     "iopub.execute_input": "2022-12-03T06:27:59.492980Z",
     "iopub.status.busy": "2022-12-03T06:27:59.492540Z",
     "iopub.status.idle": "2022-12-03T06:27:59.594735Z",
     "shell.execute_reply": "2022-12-03T06:27:59.593510Z"
    },
    "papermill": {
     "duration": 0.135422,
     "end_time": "2022-12-03T06:27:59.597601",
     "exception": false,
     "start_time": "2022-12-03T06:27:59.462179",
     "status": "completed"
    },
    "tags": []
   },
   "outputs": [],
   "source": [
    "X = data.drop(['Defect','isDefect'],axis=1).values\n",
    "y = target1"
   ]
  },
  {
   "cell_type": "code",
   "execution_count": 52,
   "id": "63c97c8e",
   "metadata": {
    "execution": {
     "iopub.execute_input": "2022-12-03T06:27:59.658800Z",
     "iopub.status.busy": "2022-12-03T06:27:59.658376Z",
     "iopub.status.idle": "2022-12-03T06:28:00.074410Z",
     "shell.execute_reply": "2022-12-03T06:28:00.072538Z"
    },
    "papermill": {
     "duration": 0.44986,
     "end_time": "2022-12-03T06:28:00.077279",
     "exception": false,
     "start_time": "2022-12-03T06:27:59.627419",
     "status": "completed"
    },
    "tags": []
   },
   "outputs": [],
   "source": [
    "from sklearn.model_selection import train_test_split\n",
    "x_train, x_test, y_train, y_test = train_test_split(X, y, stratify=y, test_size=0.15, random_state=2084)"
   ]
  },
  {
   "cell_type": "markdown",
   "id": "11040b83",
   "metadata": {
    "papermill": {
     "duration": 0.028668,
     "end_time": "2022-12-03T06:28:00.135043",
     "exception": false,
     "start_time": "2022-12-03T06:28:00.106375",
     "status": "completed"
    },
    "tags": []
   },
   "source": [
    "## Modelling"
   ]
  },
  {
   "cell_type": "code",
   "execution_count": 53,
   "id": "94c8b438",
   "metadata": {
    "execution": {
     "iopub.execute_input": "2022-12-03T06:28:00.196580Z",
     "iopub.status.busy": "2022-12-03T06:28:00.196129Z",
     "iopub.status.idle": "2022-12-03T06:29:58.091723Z",
     "shell.execute_reply": "2022-12-03T06:29:58.090612Z"
    },
    "papermill": {
     "duration": 117.960085,
     "end_time": "2022-12-03T06:29:58.124744",
     "exception": false,
     "start_time": "2022-12-03T06:28:00.164659",
     "status": "completed"
    },
    "scrolled": true,
    "tags": []
   },
   "outputs": [
    {
     "name": "stdout",
     "output_type": "stream",
     "text": [
      "\n",
      "F1 Score   0.9919867118751757\n",
      "\n",
      "Classification report for Defect (0 - No Defect, 1 - Porosity Defect, 2 - Tungsten Inclusion Defect)\n",
      "\n",
      "              precision    recall  f1-score   support\n",
      "\n",
      "           0       0.99      1.00      1.00    123268\n",
      "           1       0.00      0.00      0.00       171\n",
      "           2       0.73      0.24      0.36       692\n",
      "\n",
      "    accuracy                           0.99    124131\n",
      "   macro avg       0.58      0.41      0.45    124131\n",
      "weighted avg       0.99      0.99      0.99    124131\n",
      "\n"
     ]
    },
    {
     "name": "stderr",
     "output_type": "stream",
     "text": [
      "/opt/conda/lib/python3.7/site-packages/sklearn/metrics/_classification.py:1318: UndefinedMetricWarning:\n",
      "\n",
      "Precision and F-score are ill-defined and being set to 0.0 in labels with no predicted samples. Use `zero_division` parameter to control this behavior.\n",
      "\n",
      "/opt/conda/lib/python3.7/site-packages/sklearn/metrics/_classification.py:1318: UndefinedMetricWarning:\n",
      "\n",
      "Precision and F-score are ill-defined and being set to 0.0 in labels with no predicted samples. Use `zero_division` parameter to control this behavior.\n",
      "\n",
      "/opt/conda/lib/python3.7/site-packages/sklearn/metrics/_classification.py:1318: UndefinedMetricWarning:\n",
      "\n",
      "Precision and F-score are ill-defined and being set to 0.0 in labels with no predicted samples. Use `zero_division` parameter to control this behavior.\n",
      "\n"
     ]
    }
   ],
   "source": [
    "# xgb_params = {   'random_state':42,'scale_pos_weight': 8.416403785488958,'n_estimators':150,\n",
    "#                 'early_stopping_rounds':300,'eval_metric':'auc','verbose':1000 , \n",
    "#                 'learning_rate': 0.0463581661788896,'reg_lambda': 1.8577901848649363,\n",
    "#                 'reg_alpha': 8.487064649268152e-06,'subsample': 0.7256082597999299,\n",
    "#                 'colsample_bytree': 0.8923416359976979,'max_depth': 6    }  \n",
    "from xgboost import XGBClassifier, XGBRFClassifier\n",
    "from sklearn.metrics import roc_auc_score,accuracy_score,f1_score\n",
    "from sklearn.metrics import classification_report\n",
    "\n",
    "xgbc = XGBClassifier() # scale_pos_weight = 1/142.8439075265079\n",
    "\n",
    "xgbc.fit(x_train,y_train,eval_set=[[x_train,y_train],[x_test,y_test]], verbose=0)\n",
    "\n",
    "y_test_preds_proba_xgbc = xgbc.predict_proba(x_test)\n",
    "y_test_preds_xgbc = xgbc.predict(x_test)\n",
    "print()\n",
    "print('F1 Score   '+str(f1_score(y_test, y_test_preds_xgbc, average='weighted')))\n",
    "print()\n",
    "print(\"Classification report for Defect (0 - No Defect, 1 - Porosity Defect, 2 - Tungsten Inclusion Defect)\\n\")\n",
    "print(classification_report(y_test, y_test_preds_xgbc))"
   ]
  },
  {
   "cell_type": "code",
   "execution_count": 54,
   "id": "88b2f117",
   "metadata": {
    "execution": {
     "iopub.execute_input": "2022-12-03T06:29:58.186349Z",
     "iopub.status.busy": "2022-12-03T06:29:58.185038Z",
     "iopub.status.idle": "2022-12-03T06:33:03.653602Z",
     "shell.execute_reply": "2022-12-03T06:33:03.652248Z"
    },
    "papermill": {
     "duration": 185.534087,
     "end_time": "2022-12-03T06:33:03.688025",
     "exception": false,
     "start_time": "2022-12-03T06:29:58.153938",
     "status": "completed"
    },
    "tags": []
   },
   "outputs": [
    {
     "name": "stdout",
     "output_type": "stream",
     "text": [
      "\n",
      "F1 Score   0.9918003060992558\n",
      "\n",
      "Classification report for Defect (0 - No Defect, 1 - Porosity Defect, 2 - Tungsten Inclusion Defect)\n",
      "\n",
      "              precision    recall  f1-score   support\n",
      "\n",
      "           0       0.99      1.00      1.00    123268\n",
      "           1       0.00      0.00      0.00       171\n",
      "           2       0.72      0.22      0.33       692\n",
      "\n",
      "    accuracy                           0.99    124131\n",
      "   macro avg       0.57      0.40      0.44    124131\n",
      "weighted avg       0.99      0.99      0.99    124131\n",
      "\n"
     ]
    },
    {
     "name": "stderr",
     "output_type": "stream",
     "text": [
      "/opt/conda/lib/python3.7/site-packages/sklearn/metrics/_classification.py:1318: UndefinedMetricWarning:\n",
      "\n",
      "Precision and F-score are ill-defined and being set to 0.0 in labels with no predicted samples. Use `zero_division` parameter to control this behavior.\n",
      "\n",
      "/opt/conda/lib/python3.7/site-packages/sklearn/metrics/_classification.py:1318: UndefinedMetricWarning:\n",
      "\n",
      "Precision and F-score are ill-defined and being set to 0.0 in labels with no predicted samples. Use `zero_division` parameter to control this behavior.\n",
      "\n",
      "/opt/conda/lib/python3.7/site-packages/sklearn/metrics/_classification.py:1318: UndefinedMetricWarning:\n",
      "\n",
      "Precision and F-score are ill-defined and being set to 0.0 in labels with no predicted samples. Use `zero_division` parameter to control this behavior.\n",
      "\n"
     ]
    }
   ],
   "source": [
    "from catboost import CatBoostClassifier\n",
    "\n",
    "cbc = CatBoostClassifier()\n",
    "\n",
    "cbc.fit(x_train,y_train,eval_set=(x_test,y_test),verbose=0)\n",
    "\n",
    "y_test_preds_proba_cbc = cbc.predict_proba(x_test)\n",
    "y_test_preds_cbc = cbc.predict(x_test)\n",
    "print()   \n",
    "print('F1 Score   '+str(f1_score(y_test, y_test_preds_cbc, average='weighted')))\n",
    "print()\n",
    "print(\"Classification report for Defect (0 - No Defect, 1 - Porosity Defect, 2 - Tungsten Inclusion Defect)\\n\")\n",
    "print(classification_report(y_test, y_test_preds_cbc))"
   ]
  },
  {
   "cell_type": "code",
   "execution_count": 55,
   "id": "acd59065",
   "metadata": {
    "execution": {
     "iopub.execute_input": "2022-12-03T06:33:03.749868Z",
     "iopub.status.busy": "2022-12-03T06:33:03.749462Z",
     "iopub.status.idle": "2022-12-03T06:33:19.097385Z",
     "shell.execute_reply": "2022-12-03T06:33:19.096018Z"
    },
    "papermill": {
     "duration": 15.38181,
     "end_time": "2022-12-03T06:33:19.100200",
     "exception": false,
     "start_time": "2022-12-03T06:33:03.718390",
     "status": "completed"
    },
    "scrolled": true,
    "tags": []
   },
   "outputs": [
    {
     "data": {
      "text/html": [
       "<style type='text/css'>\n",
       ".datatable table.frame { margin-bottom: 0; }\n",
       ".datatable table.frame thead { border-bottom: none; }\n",
       ".datatable table.frame tr.coltypes td {  color: #FFFFFF;  line-height: 6px;  padding: 0 0.5em;}\n",
       ".datatable .bool    { background: #DDDD99; }\n",
       ".datatable .object  { background: #565656; }\n",
       ".datatable .int     { background: #5D9E5D; }\n",
       ".datatable .float   { background: #4040CC; }\n",
       ".datatable .str     { background: #CC4040; }\n",
       ".datatable .time    { background: #40CC40; }\n",
       ".datatable .row_index {  background: var(--jp-border-color3);  border-right: 1px solid var(--jp-border-color0);  color: var(--jp-ui-font-color3);  font-size: 9px;}\n",
       ".datatable .frame tbody td { text-align: left; }\n",
       ".datatable .frame tr.coltypes .row_index {  background: var(--jp-border-color0);}\n",
       ".datatable th:nth-child(2) { padding-left: 12px; }\n",
       ".datatable .hellipsis {  color: var(--jp-cell-editor-border-color);}\n",
       ".datatable .vellipsis {  background: var(--jp-layout-color0);  color: var(--jp-cell-editor-border-color);}\n",
       ".datatable .na {  color: var(--jp-cell-editor-border-color);  font-size: 80%;}\n",
       ".datatable .sp {  opacity: 0.25;}\n",
       ".datatable .footer { font-size: 9px; }\n",
       ".datatable .frame_dimensions {  background: var(--jp-border-color3);  border-top: 1px solid var(--jp-border-color0);  color: var(--jp-ui-font-color3);  display: inline-block;  opacity: 0.6;  padding: 1px 10px 1px 5px;}\n",
       ".datatable .frame thead tr.colnames {  background-image: url('data:image/png;base64,iVBORw0KGgoAAAANSUhEUgAAABwAAAA4CAYAAADuMJi0AAAGR0lEQVR42rVZ21IbRxBtCbQrkIR2dQVjsLmDLBsET3nTQ8ouYRkQVf6e/E9+Im958qMfkgoXAaKSSj6C9Jnd2R2NeiRSRaZqitVOT5+Z6dNnWoKGlN94JFp8Ipofkb/7SOXjGyp8wF+z35K3f0uUp/GW4XfLQ8v2gefj3ZCCzojoNfue+43o1Q3l3xB/yA3JO7jnF2pCLnI+pNyx/qw7L+SQ7T2N9p2f8c60QcfcK6KGXsAd+ZvA4LlZYuSSAoOhMs5vwJkEGDlbPMaJoA+FcQ0IH38QLWkbAFLkOOhoMF5tU6/eBRhNjro0ZgKiPRAt3FLhCO/vqdgmNTm32LkmKpvBmQY4q5uAaAgbwDBG2BVv3bfI8KKAMWj2kfw9+pkZREIbEql4ST1x7hgHIANkbJ//MF8mAH/ilTCJ2tIi4ASr1IC3VNqXHKOxjy34mgoImnOQtx1g81fkqTiMOBVGcTogNhiT5iBHET8R8C+iApJUmgim3SQAXhsLQz7ee2G8gOAQNtJckBEplADiAxtX+G9NmhDl0qJKnTvyWlAMPYZnvIviGXRg6/Dh824DBXhP/tbfREXJEIvQ+aaPGjG7pvw6r3xdx+9hqb4dgZaP2XmdHO2K/B0c1+oUph6k8kShBryl/Ft0DYgjTlOieOACHFFpVyUl72T9V3cM1jUoYvxIC2vpCSys/ck70mDYuYvdvKjlMdKAUThneWVU1aAsyjv6PURDiwNsHGBZzY+JtAAgE2TFxdRHJdyIp/f+zqu09M5cDP2F08Ukkpj4YNSdX950HY2pNCCUK/Hhx5ZMBfjNSEzdsIihVzzAMdn9dz4eDYhnyQb9SSCiAryiJcQk82LiTbJ4x2FZJaUenpKnzP95WyDf4Y+QN9EFHHSeDLGdBjjKNQ5vKHf4XMA7KrY0y0GEObBOO/8e1ywuQExOHXktuQyJALEBpcEqhwtHqgiDuCK5b6i0p2MQpcckIIoh+6hYgTZtO8xlMi6O4tKCF/kOGHEg/W0UUpHW0ZoGNZ1ExZWcn7EErgwt4uj50E/sFBjXXIayWvh7WryjasxarZKssXon0zxvvkc32Q0bqbBCuZiKt9dWFysfQefeL29JYFaeztX6tePaZdz5mYx8+6Zq3Mk0wXECQxlhdzgS2wjBHju3j1RIgKyOMdNUE8X0+RAdbSapS11MRCv1SzUXmO6wGZe2SQYrv2MvCSWEv2VODE6DN7bz8ufypgQKW7uQskFTQHULLKyaEyrnlZbgOGLrV5qrn9U79jjm2HJmgkaVN98AfBub91lGPLZBqdroN5LYgjSu4zYZDDHXZOIPC691HqrWI1900I8qLzgKP4ft8DxEWigprPfrO+KcXno9gZz4jjGewWdUcpGCj0qVFuGPYbl2VturndZ2qRvlL8acDO6lF/DY/VjsFesiUK+ypJ+r/ep+cJkSQxEK4PG4WozgA75TYrDDqStE69K8/mzGEM+JXTeqvmedEElMmwCMm2SLd6bNNF9su02zEtoW6nAQtpMj5Gd7fKa//wqonF7UdtHFsVn+6hf1o7AfriPH7M6EeIUEF5zKVxXbYo7kS/OEtOqDYZKPoBsETIixn0uYrasThmzDkhdKPkz2EnaX0HdQbIgr59vAdGYDqjHrxkjS7WOxkTD8sqEqhiwcJETgBYigrBqF08KyDaje9SZ/I1A7MzaTzMGDEulPtZUkuKcyIRAjxEJPVrnVlb/9wkfij31D/pQt1IN+iL8bGJcstBIO7Y5VI/cwDqURbXhMuJxBqD0KLoK3esWFs0Jz5i5ZvJUAfFJMFb9XmGIOnzGpijpcWYCaMqXSQWp8EnCABepQ0Elyi4wfKfsw78ikIqif1pe1AGPlLmojl1SKxHHXp1L+Ut7AmDQHvhI5xHGi4EooO2BR7k78PEkJOdL7cAxQUZ/Tyclu9gnfwGgOmm2lNHGNmZXsq4Pqgc1EG1ATrvKl8s4R9ywwnqulGUnaRLVhxy8v3ieUwy2hbooT68uscW++DCDH0WSzuoyN2D4LUJ/tLECbcSKznwMIFs0ChF4mRTCnQbIIfk4SHJo6A9BMuTnXTs3Ku/KxsgZWqzuSe+Os8cEUfnMBY6UF5gi3SUbd5K7vDjq5WW0UENJlRsWn4sy21Er/E/AvPQSFHy1p4fgAAAAASUVORK5CYII=');  background-repeat: repeat-x;  background-size: 14px;  height: 28px;}\n",
       "</style>\n"
      ],
      "text/plain": [
       "<IPython.core.display.HTML object>"
      ]
     },
     "metadata": {},
     "output_type": "display_data"
    },
    {
     "name": "stderr",
     "output_type": "stream",
     "text": [
      "/opt/conda/lib/python3.7/site-packages/lightgbm/sklearn.py:736: UserWarning:\n",
      "\n",
      "'verbose' argument is deprecated and will be removed in a future release of LightGBM. Pass 'log_evaluation()' callback via 'callbacks' argument instead.\n",
      "\n"
     ]
    },
    {
     "name": "stdout",
     "output_type": "stream",
     "text": [
      "\n",
      "F1 Score   0.9911204394830062\n",
      "\n",
      "Classification report for Defect (0 - No Defect, 1 - Porosity Defect, 2 - Tungsten Inclusion Defect)\n",
      "\n",
      "              precision    recall  f1-score   support\n",
      "\n",
      "           0       0.99      1.00      1.00    123268\n",
      "           1       0.00      0.00      0.00       171\n",
      "           2       0.56      0.17      0.26       692\n",
      "\n",
      "    accuracy                           0.99    124131\n",
      "   macro avg       0.52      0.39      0.42    124131\n",
      "weighted avg       0.99      0.99      0.99    124131\n",
      "\n"
     ]
    }
   ],
   "source": [
    "import lightgbm as lgb\n",
    "lgc = lgb.LGBMClassifier()\n",
    "\n",
    "\n",
    "lgc.fit(x_train,y_train,eval_set=[[x_train,y_train],[x_test,y_test]],verbose=0)\n",
    "\n",
    "y_test_preds_proba_lgc = lgc.predict_proba(x_test)\n",
    "y_test_preds_lgc = lgc.predict(x_test)\n",
    "\n",
    "print()\n",
    "print('F1 Score   '+str(f1_score(y_test, y_test_preds_lgc, average='weighted')))\n",
    "print()\n",
    "print(\"Classification report for Defect (0 - No Defect, 1 - Porosity Defect, 2 - Tungsten Inclusion Defect)\\n\")\n",
    "print(classification_report(y_test, y_test_preds_lgc))"
   ]
  },
  {
   "cell_type": "code",
   "execution_count": 56,
   "id": "25834dc7",
   "metadata": {
    "execution": {
     "iopub.execute_input": "2022-12-03T06:33:19.163362Z",
     "iopub.status.busy": "2022-12-03T06:33:19.162895Z",
     "iopub.status.idle": "2022-12-03T06:35:03.194519Z",
     "shell.execute_reply": "2022-12-03T06:35:03.193650Z"
    },
    "papermill": {
     "duration": 104.097292,
     "end_time": "2022-12-03T06:35:03.227873",
     "exception": false,
     "start_time": "2022-12-03T06:33:19.130581",
     "status": "completed"
    },
    "tags": []
   },
   "outputs": [
    {
     "name": "stdout",
     "output_type": "stream",
     "text": [
      "\n",
      "F1 Score   0.9920544526223459\n",
      "\n",
      "Classification report for Defect (0 - No Defect, 1 - Porosity Defect, 2 - Tungsten Inclusion Defect)\n",
      "\n",
      "              precision    recall  f1-score   support\n",
      "\n",
      "           0       0.99      1.00      1.00    123268\n",
      "           1       0.00      0.00      0.00       171\n",
      "           2       0.72      0.25      0.37       692\n",
      "\n",
      "    accuracy                           0.99    124131\n",
      "   macro avg       0.57      0.42      0.46    124131\n",
      "weighted avg       0.99      0.99      0.99    124131\n",
      "\n"
     ]
    },
    {
     "name": "stderr",
     "output_type": "stream",
     "text": [
      "/opt/conda/lib/python3.7/site-packages/sklearn/metrics/_classification.py:1318: UndefinedMetricWarning:\n",
      "\n",
      "Precision and F-score are ill-defined and being set to 0.0 in labels with no predicted samples. Use `zero_division` parameter to control this behavior.\n",
      "\n",
      "/opt/conda/lib/python3.7/site-packages/sklearn/metrics/_classification.py:1318: UndefinedMetricWarning:\n",
      "\n",
      "Precision and F-score are ill-defined and being set to 0.0 in labels with no predicted samples. Use `zero_division` parameter to control this behavior.\n",
      "\n",
      "/opt/conda/lib/python3.7/site-packages/sklearn/metrics/_classification.py:1318: UndefinedMetricWarning:\n",
      "\n",
      "Precision and F-score are ill-defined and being set to 0.0 in labels with no predicted samples. Use `zero_division` parameter to control this behavior.\n",
      "\n"
     ]
    }
   ],
   "source": [
    "from xgboost import XGBRFClassifier\n",
    "xgbrf = XGBRFClassifier() # scale_pos_weight = 1/142.8439075265079\n",
    "\n",
    "xgbrf.fit(x_train,y_train,eval_set=[[x_train,y_train],[x_test,y_test]], verbose=0)\n",
    "\n",
    "y_test_preds_proba_xgbrf = xgbrf.predict_proba(x_test)\n",
    "y_test_preds_xgbrf = xgbrf.predict(x_test)\n",
    "print()\n",
    "print('F1 Score   '+str(f1_score(y_test, y_test_preds_xgbrf, average='weighted')))\n",
    "print()\n",
    "print(\"Classification report for Defect (0 - No Defect, 1 - Porosity Defect, 2 - Tungsten Inclusion Defect)\\n\")\n",
    "\n",
    "print(classification_report(y_test, y_test_preds_xgbrf))"
   ]
  },
  {
   "cell_type": "markdown",
   "id": "1bc6b11f",
   "metadata": {
    "papermill": {
     "duration": 0.029314,
     "end_time": "2022-12-03T06:35:03.287073",
     "exception": false,
     "start_time": "2022-12-03T06:35:03.257759",
     "status": "completed"
    },
    "tags": []
   },
   "source": [
    "## XGBRFClassifier gives the best results."
   ]
  }
 ],
 "metadata": {
  "kernelspec": {
   "display_name": "Python 3",
   "language": "python",
   "name": "python3"
  },
  "language_info": {
   "codemirror_mode": {
    "name": "ipython",
    "version": 3
   },
   "file_extension": ".py",
   "mimetype": "text/x-python",
   "name": "python",
   "nbconvert_exporter": "python",
   "pygments_lexer": "ipython3",
   "version": "3.7.12"
  },
  "papermill": {
   "default_parameters": {},
   "duration": 510.883432,
   "end_time": "2022-12-03T06:35:04.944637",
   "environment_variables": {},
   "exception": null,
   "input_path": "__notebook__.ipynb",
   "output_path": "__notebook__.ipynb",
   "parameters": {},
   "start_time": "2022-12-03T06:26:34.061205",
   "version": "2.3.4"
  }
 },
 "nbformat": 4,
 "nbformat_minor": 5
}
